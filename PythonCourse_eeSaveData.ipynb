{
 "cells": [
  {
   "cell_type": "markdown",
   "metadata": {},
   "source": [
    "<img align=\"right\" src=\"files/logo_grupo_en_verde.png\" style=\"width: 200px;\"/> \n",
    "<br>\n",
    "<br>\n",
    "<br>\n",
    "<br>\n",
    "<img align=\"left\" src=\"files/ee.png\" style=\"width: 800px;\"/>"
   ]
  },
  {
   "cell_type": "code",
   "execution_count": 7,
   "metadata": {},
   "outputs": [],
   "source": [
    "# Importando e Inicializando a API do Google Engine + Iphython Display para visualizar os dados\n",
    "import ee\n",
    "ee.Initialize()\n",
    "\n",
    "from IPython.display import Image"
   ]
  },
  {
   "cell_type": "markdown",
   "metadata": {},
   "source": [
    "# Obtendo imagens Landsat"
   ]
  },
  {
   "cell_type": "code",
   "execution_count": 90,
   "metadata": {},
   "outputs": [
    {
     "data": {
      "text/html": [
       "<img src=\"https://earthengine.googleapis.com/api/thumb?thumbid=41bdb3cde7fe911c8cfde9af6c462e22&token=15189e268153ed64dc4864e607528742\"/>"
      ],
      "text/plain": [
       "<IPython.core.display.Image object>"
      ]
     },
     "execution_count": 90,
     "metadata": {},
     "output_type": "execute_result"
    }
   ],
   "source": [
    "l8 = ee.ImageCollection('LANDSAT/LC8_L1T_TOA_FMASK')\n",
    "\n",
    "# Filtra a collection para o período ('2016-05-01', '2016-06-30')\n",
    "filtered = l8.filterDate('2016-05-01', '2017-06-30');\n",
    "\n",
    "# O redutor de mosaico seleciona o pixel mais recente nas áreas de sobreposição\n",
    "l8filtrada = filtered.min()\n",
    "Image(url=l8filtrada.getThumbUrl()) # Dessa forma não funciona"
   ]
  },
  {
   "cell_type": "markdown",
   "metadata": {},
   "source": [
    "# Obtendo grid a ser processado"
   ]
  },
  {
   "cell_type": "code",
   "execution_count": 83,
   "metadata": {},
   "outputs": [],
   "source": [
    "cenasLandsat = ee.FeatureCollection('ft:1cvotaqWbn-2QFJTl_pdfaeY3aoXGDf0rTFGzDsV5','geometry')"
   ]
  },
  {
   "cell_type": "code",
   "execution_count": 84,
   "metadata": {
    "collapsed": true
   },
   "outputs": [],
   "source": [
    "tile219069 = cenasLandsat.filter(ee.Filter.eq('TILE_T','T219069'))"
   ]
  },
  {
   "cell_type": "code",
   "execution_count": 85,
   "metadata": {
    "collapsed": true
   },
   "outputs": [],
   "source": [
    "gridGeometry = tile219069.geometry().bounds()"
   ]
  },
  {
   "cell_type": "code",
   "execution_count": 86,
   "metadata": {},
   "outputs": [],
   "source": [
    "coordList = gridGeometry.coordinates().getInfo()"
   ]
  },
  {
   "cell_type": "code",
   "execution_count": 87,
   "metadata": {},
   "outputs": [
    {
     "data": {
      "text/html": [
       "<img src=\"https://earthengine.googleapis.com/api/thumb?thumbid=d2e713b6e016f5cfce5ef759d557ac1d&token=3976042a9ee170f700659caa04bfe9e5\"/>"
      ],
      "text/plain": [
       "<IPython.core.display.Image object>"
      ]
     },
     "execution_count": 87,
     "metadata": {},
     "output_type": "execute_result"
    }
   ],
   "source": [
    "# Plotando os dados\n",
    "Image(url=l8filtrada.getThumbUrl({'min':0, 'max':0.3, 'region':coordList, 'bands':'B4,B3,B2'}))"
   ]
  },
  {
   "cell_type": "markdown",
   "metadata": {
    "collapsed": true
   },
   "source": [
    "# Clipping"
   ]
  },
  {
   "cell_type": "code",
   "execution_count": 88,
   "metadata": {},
   "outputs": [],
   "source": [
    "l8clip = l8filtrada.clip(tile219069.geometry())"
   ]
  },
  {
   "cell_type": "code",
   "execution_count": 89,
   "metadata": {},
   "outputs": [
    {
     "data": {
      "text/html": [
       "<img src=\"https://earthengine.googleapis.com/api/thumb?thumbid=9224bec74a135a8ac282181ec8936619&token=efd51fc2305ccd38bf8d236edd716285\"/>"
      ],
      "text/plain": [
       "<IPython.core.display.Image object>"
      ]
     },
     "execution_count": 89,
     "metadata": {},
     "output_type": "execute_result"
    }
   ],
   "source": [
    "Image(url=l8clip.getThumbUrl({'min':0, 'max':0.3, 'region':coordList, 'bands':'B4,B3,B2'}))"
   ]
  },
  {
   "cell_type": "markdown",
   "metadata": {},
   "source": [
    "## Salvando dados no Google Drive"
   ]
  },
  {
   "cell_type": "code",
   "execution_count": 117,
   "metadata": {
    "collapsed": true
   },
   "outputs": [],
   "source": [
    "taskConfig = {\n",
    "    \"scale\": 30,\n",
    "    \"maxPixels\": 1.0E13,\n",
    "    'description': 'Cena 219069',    \n",
    "    \"driveFolder\": 'L8teste',\n",
    "    'region': coordList\n",
    "}"
   ]
  },
  {
   "cell_type": "code",
   "execution_count": 118,
   "metadata": {},
   "outputs": [],
   "source": [
    "l8f = l8clip.multiply(10000).toInt16()\n",
    "task = ee.batch.Export.image(l8f, 'cena219069', taskConfig)"
   ]
  },
  {
   "cell_type": "code",
   "execution_count": 119,
   "metadata": {},
   "outputs": [],
   "source": [
    "task.start()"
   ]
  },
  {
   "cell_type": "markdown",
   "metadata": {
    "collapsed": true
   },
   "source": [
    "## Salvando dados no Earth Engine (Assets)"
   ]
  },
  {
   "cell_type": "code",
   "execution_count": 131,
   "metadata": {},
   "outputs": [],
   "source": [
    "task = ee.batch.Export.image.toAsset(\n",
    "  image = l8f,\n",
    "  description = 'Cena 219069',\n",
    "  assetId = 'users/fernandompimenta/Python/cena219069',\n",
    "  scale = 30,\n",
    "  region = coordList,\n",
    ");\n",
    "\n",
    "task.start()"
   ]
  },
  {
   "cell_type": "markdown",
   "metadata": {
    "collapsed": true
   },
   "source": [
    "# Utilizando o help"
   ]
  },
  {
   "cell_type": "code",
   "execution_count": 12,
   "metadata": {
    "collapsed": true
   },
   "outputs": [],
   "source": []
  }
 ],
 "metadata": {
  "kernelspec": {
   "display_name": "Python 3",
   "language": "python",
   "name": "python3"
  },
  "language_info": {
   "codemirror_mode": {
    "name": "ipython",
    "version": 3
   },
   "file_extension": ".py",
   "mimetype": "text/x-python",
   "name": "python",
   "nbconvert_exporter": "python",
   "pygments_lexer": "ipython3",
   "version": "3.5.3"
  }
 },
 "nbformat": 4,
 "nbformat_minor": 2
}
