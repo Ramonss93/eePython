{
 "cells": [
  {
   "cell_type": "markdown",
   "metadata": {},
   "source": [
    "<img align=\"right\" src=\"files/logo_grupo_en_verde.png\" style=\"width: 200px;\"/> \n",
    "<br>\n",
    "<br>\n",
    "<br>\n",
    "<br>\n",
    "<img align=\"left\" src=\"files/ee.png\" style=\"width: 800px;\"/>"
   ]
  },
  {
   "cell_type": "markdown",
   "metadata": {
    "collapsed": true
   },
   "source": [
    "# Instalação e Configuração da API Python"
   ]
  },
  {
   "cell_type": "code",
   "execution_count": 1,
   "metadata": {},
   "outputs": [
    {
     "name": "stdout",
     "output_type": "stream",
     "text": [
      "#!/bin/bash\r\n",
      "\r\n",
      "#Instalação do Earth Engine Python API\r\n",
      "#Check system name version and arch\r\n",
      "\r\n",
      "OS=$(lsb_release -si)\r\n",
      "\r\n",
      "if [ $OS == \"Korora\" ]; then\r\n",
      "  PACKMAN=dnf\r\n",
      "else\r\n",
      "  PACKMAN=apt-get\r\n",
      "fi\r\n",
      "\r\n",
      "#Instalar python package manager (pip)\r\n",
      "$PACKMAN -y install python-pip\r\n",
      "\r\n",
      "#Instalação do Google APIs Client Library\r\n",
      "pip install google-api-python-client --upgrade\r\n",
      "\r\n",
      "#Verificar se a biblioteca crypto está instalada\r\n",
      "python -c \"from oauth2client import crypt\"\r\n",
      "\r\n",
      "#Caso o comando anterior voltar algum erro\r\n",
      "pip install pyCrypto --upgrade\r\n",
      "\r\n",
      "#Instalação do Secure Sockets Layer Protocol    \r\n",
      "pip install 'pyOpenSSL>=0.11' --upgrade\r\n",
      "\r\n",
      "#Instalação do Earth Engine Python API            \r\n",
      "pip install earthengine-api --upgrade\r\n",
      "\r\n",
      "#Setar credenciais de autenticação\r\n",
      "#Abre o browser para você inserir sua senha do gmail e receber um número de autenticação\r\n",
      "earthengine authenticate  \r\n"
     ]
    }
   ],
   "source": [
    "!cat files/eeInstall.sh"
   ]
  },
  {
   "cell_type": "markdown",
   "metadata": {},
   "source": [
    "## Verificando a Instalação"
   ]
  },
  {
   "cell_type": "code",
   "execution_count": 8,
   "metadata": {
    "collapsed": true
   },
   "outputs": [],
   "source": [
    "# Importando e Inicializando a API do Google Engine\n",
    "import ee\n",
    "ee.Initialize()"
   ]
  },
  {
   "cell_type": "code",
   "execution_count": 9,
   "metadata": {},
   "outputs": [
    {
     "name": "stdout",
     "output_type": "stream",
     "text": [
      "{'id': 'CGIAR/SRTM90_V4', 'type': 'Image', 'bands': [{'data_type': {'precision': 'int', 'min': -32768, 'type': 'PixelType', 'max': 32767}, 'crs': 'EPSG:4326', 'crs_transform': [0.000833333333333, 0.0, -180.0, 0.0, -0.000833333333333, 60.0], 'id': 'elevation', 'dimensions': [432000, 144000]}], 'properties': {'sample': 'https://mw1.google.com/ges/dd/images/SRTM90_V4_sample.png', 'tags': ['nasa', 'cgiar', 'srtm', 'elevation', 'topography', 'dem', 'geophysical'], 'system:visualization_0_gamma': 1.6, 'system:visualization_0_bands': 'elevation', 'date_range': [950227200000.0, 951177600000.0], 'system:visualization_0_max': 10000, 'title': 'SRTM Digital Elevation Data Version 4', 'thumb': 'https://mw1.google.com/ges/dd/images/SRTM90_V4_thumb.png', 'system:visualization_0_name': 'Elevation', 'provider_url': 'http://srtm.csi.cgiar.org/', 'system:asset_size': 18827626666, 'system:time_start': 950227200000, 'period': 0, 'description': \"<p>The Shuttle Radar Topography Mission (SRTM, see    <a href='http://onlinelibrary.wiley.com/doi/10.1029/2005RG000183/full'>Farr   et al. 2007</a>) digital elevation dataset was originally produced   to provide consistent, high-quality elevation data at near global scope.   This version of the SRTM digital elevation data has been  processed to fill   data voids, and to facilitate its ease of use. The SRTM 90m has a resolution   of 90m at the equator. </p><p>This dataset contains one band, 'elevation'   (meters).</p><p>For the   creation of any reports, publications, new data sets, derived products,   or services resulting from the data set, users should cite:</p>    <p>Jarvis, A., H.I. Reuter, A. Nelson, E. Guevara. 2008. Hole-filled SRTM   for the globe Version 4, available from the CGIAR-CSI SRTM 90m Database:   <a href='http://srtm.csi.cgiar.org'>http://srtm.csi.cgiar.org</a>.</p>\", 'system:visualization_0_min': 0, 'system:time_end': 951177600000, 'provider': 'NASA / CGIAR', 'link': 'srtm90_v4'}, 'version': 1494271934303000}\n"
     ]
    }
   ],
   "source": [
    "# Importando dados da plataforma\n",
    "srtm = ee.Image(\"CGIAR/SRTM90_V4\")\n",
    "info = srtm.getInfo()\n",
    "print(info)"
   ]
  },
  {
   "cell_type": "code",
   "execution_count": 10,
   "metadata": {},
   "outputs": [
    {
     "data": {
      "text/plain": [
       "['id', 'type', 'bands', 'properties', 'version']"
      ]
     },
     "execution_count": 10,
     "metadata": {},
     "output_type": "execute_result"
    }
   ],
   "source": [
    "list(info.keys())"
   ]
  },
  {
   "cell_type": "markdown",
   "metadata": {},
   "source": [
    "# Images\n",
    "\n",
    "## Visualização de dados utilizando Ipython.display"
   ]
  },
  {
   "cell_type": "code",
   "execution_count": 11,
   "metadata": {},
   "outputs": [
    {
     "data": {
      "text/html": [
       "<img src=\"https://earthengine.googleapis.com/api/thumb?thumbid=24b84ff4f3625621f8ff298dfcaa919b&token=e02d287d645ed66aa7048891c4a53d2f\"/>"
      ],
      "text/plain": [
       "<IPython.core.display.Image object>"
      ]
     },
     "execution_count": 11,
     "metadata": {},
     "output_type": "execute_result"
    }
   ],
   "source": [
    "from IPython.display import Image\n",
    "Image(url=srtm.getThumbUrl())"
   ]
  },
  {
   "cell_type": "code",
   "execution_count": 12,
   "metadata": {},
   "outputs": [
    {
     "data": {
      "text/html": [
       "<img src=\"https://earthengine.googleapis.com/api/thumb?thumbid=a7f37aaf3e0e9a8ec6a0ef27f0a5ff89&token=acc0e8685c09dca45b25962ad2115029\"/>"
      ],
      "text/plain": [
       "<IPython.core.display.Image object>"
      ]
     },
     "execution_count": 12,
     "metadata": {},
     "output_type": "execute_result"
    }
   ],
   "source": [
    "# Adicionando parâmetros para melhorar a visualização\n",
    "Image(url=srtm.getThumbUrl({'min':0, 'max':3000}))"
   ]
  },
  {
   "cell_type": "markdown",
   "metadata": {},
   "source": [
    "Por padrão o método **.getTumbUrl()** retorna o mapa com toda a sua extensão (neste caso, global). É possível especificar parâmetros para uma extensão menor."
   ]
  },
  {
   "cell_type": "markdown",
   "metadata": {},
   "source": [
    "## Definindo uma região para a plotagem da base de dados"
   ]
  },
  {
   "cell_type": "code",
   "execution_count": 13,
   "metadata": {},
   "outputs": [
    {
     "data": {
      "text/html": [
       "<img src=\"https://earthengine.googleapis.com/api/thumb?thumbid=60d47c9e719d7ff8740020d499afef23&token=b535f39a7db84cf55caab50dbba3f2a9\"/>"
      ],
      "text/plain": [
       "<IPython.core.display.Image object>"
      ]
     },
     "execution_count": 13,
     "metadata": {},
     "output_type": "execute_result"
    }
   ],
   "source": [
    "# Definindo um ponto para a cidade de Viçosa - MG\n",
    "pointVico = ee.Geometry.Point(-42.8786, -20.7549)\n",
    "\n",
    "# Criando uma região de buffer em  torno do ponto criado (m)\n",
    "region_vicosa = pointVico.buffer(50000).bounds().getInfo()['coordinates']\n",
    "\n",
    "# Plotando os dados\n",
    "Image(url=srtm.getThumbUrl({'min':0, 'max':1000, 'region':region_vicosa}))"
   ]
  },
  {
   "cell_type": "markdown",
   "metadata": {},
   "source": [
    "#  Image Collection\n",
    "\n",
    "## Carregando e Filtrando Image Collections"
   ]
  },
  {
   "cell_type": "code",
   "execution_count": 14,
   "metadata": {},
   "outputs": [
    {
     "data": {
      "text/html": [
       "<img src=\"https://earthengine.googleapis.com/api/thumb?thumbid=ba9911917995d3f4b3b5f851b9d2349d&token=fd935324e70dd88a7ad884a25d049fc4\"/>"
      ],
      "text/plain": [
       "<IPython.core.display.Image object>"
      ]
     },
     "execution_count": 14,
     "metadata": {},
     "output_type": "execute_result"
    }
   ],
   "source": [
    "# Define a collection\n",
    "l8 = ee.ImageCollection('LANDSAT/LC8_L1T_TOA')\n",
    "\n",
    "# Filtra a collection para o período ('2016-05-01', '2017-06-30')\n",
    "filtered = l8.filterDate('2016-05-01', '2017-06-30');\n",
    "\n",
    "# O redutor de mosaico seleciona o pixel mais recente nas áreas de sobreposição\n",
    "l8_image = filtered.mosaic()\n",
    "\n",
    "# Define uma região que cobre a cidade de viçosa - MG\n",
    "point = ee.Geometry.Point(-42.8786, -20.7549)\n",
    "region_vicosa = point.buffer(50000).bounds().getInfo()['coordinates']\n",
    "\n",
    "# Plota a collection\n",
    "Image(url=l8_image.getThumbUrl({'region':region_vicosa}))"
   ]
  },
  {
   "cell_type": "markdown",
   "metadata": {},
   "source": [
    "É possível obter todas as informações da imagem através de seus metadados"
   ]
  },
  {
   "cell_type": "code",
   "execution_count": 15,
   "metadata": {},
   "outputs": [
    {
     "data": {
      "text/html": [
       "<img src=\"https://earthengine.googleapis.com/api/thumb?thumbid=a0782be04499bf8a1d9ea6936ef2d598&token=7cee0485db01d82f034c149965e245b8\"/>"
      ],
      "text/plain": [
       "<IPython.core.display.Image object>"
      ]
     },
     "execution_count": 15,
     "metadata": {},
     "output_type": "execute_result"
    }
   ],
   "source": [
    "# Carregando imagem\n",
    "image = ee.Image('LANDSAT/LC8_L1T/LC80440342014077LGN00')\n",
    "Image(url=image.getThumbUrl())"
   ]
  },
  {
   "cell_type": "code",
   "execution_count": 16,
   "metadata": {},
   "outputs": [
    {
     "data": {
      "text/plain": [
       "{'bands': [{'crs': 'EPSG:32610',\n",
       "   'crs_transform': [30.0, 0.0, 460485.0, 0.0, -30.0, 4264515.0],\n",
       "   'data_type': {'max': 65535,\n",
       "    'min': 0,\n",
       "    'precision': 'int',\n",
       "    'type': 'PixelType'},\n",
       "   'dimensions': [7671, 7811],\n",
       "   'id': 'B1'},\n",
       "  {'crs': 'EPSG:32610',\n",
       "   'crs_transform': [30.0, 0.0, 460485.0, 0.0, -30.0, 4264515.0],\n",
       "   'data_type': {'max': 65535,\n",
       "    'min': 0,\n",
       "    'precision': 'int',\n",
       "    'type': 'PixelType'},\n",
       "   'dimensions': [7671, 7811],\n",
       "   'id': 'B2'},\n",
       "  {'crs': 'EPSG:32610',\n",
       "   'crs_transform': [30.0, 0.0, 460485.0, 0.0, -30.0, 4264515.0],\n",
       "   'data_type': {'max': 65535,\n",
       "    'min': 0,\n",
       "    'precision': 'int',\n",
       "    'type': 'PixelType'},\n",
       "   'dimensions': [7671, 7811],\n",
       "   'id': 'B3'},\n",
       "  {'crs': 'EPSG:32610',\n",
       "   'crs_transform': [30.0, 0.0, 460485.0, 0.0, -30.0, 4264515.0],\n",
       "   'data_type': {'max': 65535,\n",
       "    'min': 0,\n",
       "    'precision': 'int',\n",
       "    'type': 'PixelType'},\n",
       "   'dimensions': [7671, 7811],\n",
       "   'id': 'B4'},\n",
       "  {'crs': 'EPSG:32610',\n",
       "   'crs_transform': [30.0, 0.0, 460485.0, 0.0, -30.0, 4264515.0],\n",
       "   'data_type': {'max': 65535,\n",
       "    'min': 0,\n",
       "    'precision': 'int',\n",
       "    'type': 'PixelType'},\n",
       "   'dimensions': [7671, 7811],\n",
       "   'id': 'B5'},\n",
       "  {'crs': 'EPSG:32610',\n",
       "   'crs_transform': [30.0, 0.0, 460485.0, 0.0, -30.0, 4264515.0],\n",
       "   'data_type': {'max': 65535,\n",
       "    'min': 0,\n",
       "    'precision': 'int',\n",
       "    'type': 'PixelType'},\n",
       "   'dimensions': [7671, 7811],\n",
       "   'id': 'B6'},\n",
       "  {'crs': 'EPSG:32610',\n",
       "   'crs_transform': [30.0, 0.0, 460485.0, 0.0, -30.0, 4264515.0],\n",
       "   'data_type': {'max': 65535,\n",
       "    'min': 0,\n",
       "    'precision': 'int',\n",
       "    'type': 'PixelType'},\n",
       "   'dimensions': [7671, 7811],\n",
       "   'id': 'B7'},\n",
       "  {'crs': 'EPSG:32610',\n",
       "   'crs_transform': [15.0, 0.0, 460492.5, 0.0, -15.0, 4264507.5],\n",
       "   'data_type': {'max': 65535,\n",
       "    'min': 0,\n",
       "    'precision': 'int',\n",
       "    'type': 'PixelType'},\n",
       "   'dimensions': [15341, 15621],\n",
       "   'id': 'B8'},\n",
       "  {'crs': 'EPSG:32610',\n",
       "   'crs_transform': [30.0, 0.0, 460485.0, 0.0, -30.0, 4264515.0],\n",
       "   'data_type': {'max': 65535,\n",
       "    'min': 0,\n",
       "    'precision': 'int',\n",
       "    'type': 'PixelType'},\n",
       "   'dimensions': [7671, 7811],\n",
       "   'id': 'B9'},\n",
       "  {'crs': 'EPSG:32610',\n",
       "   'crs_transform': [30.0, 0.0, 460485.0, 0.0, -30.0, 4264515.0],\n",
       "   'data_type': {'max': 65535,\n",
       "    'min': 0,\n",
       "    'precision': 'int',\n",
       "    'type': 'PixelType'},\n",
       "   'dimensions': [7671, 7811],\n",
       "   'id': 'B10'},\n",
       "  {'crs': 'EPSG:32610',\n",
       "   'crs_transform': [30.0, 0.0, 460485.0, 0.0, -30.0, 4264515.0],\n",
       "   'data_type': {'max': 65535,\n",
       "    'min': 0,\n",
       "    'precision': 'int',\n",
       "    'type': 'PixelType'},\n",
       "   'dimensions': [7671, 7811],\n",
       "   'id': 'B11'},\n",
       "  {'crs': 'EPSG:32610',\n",
       "   'crs_transform': [30.0, 0.0, 460485.0, 0.0, -30.0, 4264515.0],\n",
       "   'data_type': {'max': 65535,\n",
       "    'min': 0,\n",
       "    'precision': 'int',\n",
       "    'type': 'PixelType'},\n",
       "   'dimensions': [7671, 7811],\n",
       "   'id': 'BQA'}],\n",
       " 'id': 'LANDSAT/LC8_L1T/LC80440342014077LGN00',\n",
       " 'properties': {'BPF_NAME_OLI': 'LO8BPF20140318183249_20140318190412.01',\n",
       "  'BPF_NAME_TIRS': 'LT8BPF20140318182855_20140318190505.01',\n",
       "  'CLOUD_COVER': 0.34,\n",
       "  'CORNER_LL_LAT_PRODUCT': 36.41617,\n",
       "  'CORNER_LL_LON_PRODUCT': -123.44059,\n",
       "  'CORNER_LL_PROJECTION_X_PRODUCT': 460500.0,\n",
       "  'CORNER_LL_PROJECTION_Y_PRODUCT': 4030200.0,\n",
       "  'CORNER_LR_LAT_PRODUCT': 36.39807,\n",
       "  'CORNER_LR_LON_PRODUCT': -120.87463,\n",
       "  'CORNER_LR_PROJECTION_X_PRODUCT': 690600.0,\n",
       "  'CORNER_LR_PROJECTION_Y_PRODUCT': 4030200.0,\n",
       "  'CORNER_UL_LAT_PRODUCT': 38.52802,\n",
       "  'CORNER_UL_LON_PRODUCT': -123.45317,\n",
       "  'CORNER_UL_PROJECTION_X_PRODUCT': 460500.0,\n",
       "  'CORNER_UL_PROJECTION_Y_PRODUCT': 4264500.0,\n",
       "  'CORNER_UR_LAT_PRODUCT': 38.50849,\n",
       "  'CORNER_UR_LON_PRODUCT': -120.81403,\n",
       "  'CORNER_UR_PROJECTION_X_PRODUCT': 690600.0,\n",
       "  'CORNER_UR_PROJECTION_Y_PRODUCT': 4264500.0,\n",
       "  'CPF_NAME': 'L8CPF20140101_20140331.03',\n",
       "  'DATA_TYPE': 'L1T',\n",
       "  'DATE_ACQUIRED': '2014-03-18',\n",
       "  'DATUM': 'WGS84',\n",
       "  'EARTH_SUN_DISTANCE': 0.9953709,\n",
       "  'ELEVATION_SOURCE': 'GLS2000',\n",
       "  'ELLIPSOID': 'WGS84',\n",
       "  'FILE_DATE': 1395178381000,\n",
       "  'GEOMETRIC_RMSE_MODEL': 6.794,\n",
       "  'GEOMETRIC_RMSE_MODEL_X': 4.855,\n",
       "  'GEOMETRIC_RMSE_MODEL_Y': 4.753,\n",
       "  'GEOMETRIC_RMSE_VERIFY': 3.238,\n",
       "  'GRID_CELL_SIZE_PANCHROMATIC': 15.0,\n",
       "  'GRID_CELL_SIZE_REFLECTIVE': 30.0,\n",
       "  'GRID_CELL_SIZE_THERMAL': 30.0,\n",
       "  'GROUND_CONTROL_POINTS_MODEL': 527,\n",
       "  'GROUND_CONTROL_POINTS_VERIFY': 165,\n",
       "  'IMAGE_QUALITY_OLI': 9,\n",
       "  'IMAGE_QUALITY_TIRS': 9,\n",
       "  'K1_CONSTANT_BAND_10': 774.89,\n",
       "  'K1_CONSTANT_BAND_11': 480.89,\n",
       "  'K2_CONSTANT_BAND_10': 1321.08,\n",
       "  'K2_CONSTANT_BAND_11': 1201.14,\n",
       "  'LANDSAT_SCENE_ID': 'LC80440342014077LGN00',\n",
       "  'MAP_PROJECTION': 'UTM',\n",
       "  'NADIR_OFFNADIR': 'NADIR',\n",
       "  'ORIENTATION': 'NORTH_UP',\n",
       "  'ORIGIN': 'Image courtesy of the U.S. Geological Survey',\n",
       "  'PANCHROMATIC_LINES': 15621,\n",
       "  'PANCHROMATIC_SAMPLES': 15341,\n",
       "  'PROCESSING_SOFTWARE_VERSION': 'LPGS_2.3.0',\n",
       "  'QUANTIZE_CAL_MAX_BAND_1': 65535,\n",
       "  'QUANTIZE_CAL_MAX_BAND_10': 65535,\n",
       "  'QUANTIZE_CAL_MAX_BAND_11': 65535,\n",
       "  'QUANTIZE_CAL_MAX_BAND_2': 65535,\n",
       "  'QUANTIZE_CAL_MAX_BAND_3': 65535,\n",
       "  'QUANTIZE_CAL_MAX_BAND_4': 65535,\n",
       "  'QUANTIZE_CAL_MAX_BAND_5': 65535,\n",
       "  'QUANTIZE_CAL_MAX_BAND_6': 65535,\n",
       "  'QUANTIZE_CAL_MAX_BAND_7': 65535,\n",
       "  'QUANTIZE_CAL_MAX_BAND_8': 65535,\n",
       "  'QUANTIZE_CAL_MAX_BAND_9': 65535,\n",
       "  'QUANTIZE_CAL_MIN_BAND_1': 1,\n",
       "  'QUANTIZE_CAL_MIN_BAND_10': 1,\n",
       "  'QUANTIZE_CAL_MIN_BAND_11': 1,\n",
       "  'QUANTIZE_CAL_MIN_BAND_2': 1,\n",
       "  'QUANTIZE_CAL_MIN_BAND_3': 1,\n",
       "  'QUANTIZE_CAL_MIN_BAND_4': 1,\n",
       "  'QUANTIZE_CAL_MIN_BAND_5': 1,\n",
       "  'QUANTIZE_CAL_MIN_BAND_6': 1,\n",
       "  'QUANTIZE_CAL_MIN_BAND_7': 1,\n",
       "  'QUANTIZE_CAL_MIN_BAND_8': 1,\n",
       "  'QUANTIZE_CAL_MIN_BAND_9': 1,\n",
       "  'RADIANCE_ADD_BAND_1': -63.36405,\n",
       "  'RADIANCE_ADD_BAND_10': 0.1,\n",
       "  'RADIANCE_ADD_BAND_11': 0.1,\n",
       "  'RADIANCE_ADD_BAND_2': -64.88556,\n",
       "  'RADIANCE_ADD_BAND_3': -59.79149,\n",
       "  'RADIANCE_ADD_BAND_4': -50.41956,\n",
       "  'RADIANCE_ADD_BAND_5': -30.85425,\n",
       "  'RADIANCE_ADD_BAND_6': -7.67317,\n",
       "  'RADIANCE_ADD_BAND_7': -2.58627,\n",
       "  'RADIANCE_ADD_BAND_8': -57.06106,\n",
       "  'RADIANCE_ADD_BAND_9': -12.05854,\n",
       "  'RADIANCE_MAXIMUM_BAND_1': 767.1486,\n",
       "  'RADIANCE_MAXIMUM_BAND_10': 22.0018,\n",
       "  'RADIANCE_MAXIMUM_BAND_11': 22.0018,\n",
       "  'RADIANCE_MAXIMUM_BAND_2': 785.5695,\n",
       "  'RADIANCE_MAXIMUM_BAND_3': 723.8956,\n",
       "  'RADIANCE_MAXIMUM_BAND_4': 610.42957,\n",
       "  'RADIANCE_MAXIMUM_BAND_5': 373.55246,\n",
       "  'RADIANCE_MAXIMUM_BAND_6': 92.89909,\n",
       "  'RADIANCE_MAXIMUM_BAND_7': 31.31197,\n",
       "  'RADIANCE_MAXIMUM_BAND_8': 690.83826,\n",
       "  'RADIANCE_MAXIMUM_BAND_9': 145.99277,\n",
       "  'RADIANCE_MINIMUM_BAND_1': -63.35138,\n",
       "  'RADIANCE_MINIMUM_BAND_10': 0.10033,\n",
       "  'RADIANCE_MINIMUM_BAND_11': 0.10033,\n",
       "  'RADIANCE_MINIMUM_BAND_2': -64.87259,\n",
       "  'RADIANCE_MINIMUM_BAND_3': -59.77953,\n",
       "  'RADIANCE_MINIMUM_BAND_4': -50.40947,\n",
       "  'RADIANCE_MINIMUM_BAND_5': -30.84808,\n",
       "  'RADIANCE_MINIMUM_BAND_6': -7.67164,\n",
       "  'RADIANCE_MINIMUM_BAND_7': -2.58575,\n",
       "  'RADIANCE_MINIMUM_BAND_8': -57.04965,\n",
       "  'RADIANCE_MINIMUM_BAND_9': -12.05613,\n",
       "  'RADIANCE_MULT_BAND_1': 0.012673,\n",
       "  'RADIANCE_MULT_BAND_10': 0.0003342,\n",
       "  'RADIANCE_MULT_BAND_11': 0.0003342,\n",
       "  'RADIANCE_MULT_BAND_2': 0.012977,\n",
       "  'RADIANCE_MULT_BAND_3': 0.011958,\n",
       "  'RADIANCE_MULT_BAND_4': 0.010084,\n",
       "  'RADIANCE_MULT_BAND_5': 0.0061709,\n",
       "  'RADIANCE_MULT_BAND_6': 0.0015346,\n",
       "  'RADIANCE_MULT_BAND_7': 0.00051725,\n",
       "  'RADIANCE_MULT_BAND_8': 0.011412,\n",
       "  'RADIANCE_MULT_BAND_9': 0.0024117,\n",
       "  'REFLECTANCE_ADD_BAND_1': -0.1,\n",
       "  'REFLECTANCE_ADD_BAND_2': -0.1,\n",
       "  'REFLECTANCE_ADD_BAND_3': -0.1,\n",
       "  'REFLECTANCE_ADD_BAND_4': -0.1,\n",
       "  'REFLECTANCE_ADD_BAND_5': -0.1,\n",
       "  'REFLECTANCE_ADD_BAND_6': -0.1,\n",
       "  'REFLECTANCE_ADD_BAND_7': -0.1,\n",
       "  'REFLECTANCE_ADD_BAND_8': -0.1,\n",
       "  'REFLECTANCE_ADD_BAND_9': -0.1,\n",
       "  'REFLECTANCE_MAXIMUM_BAND_1': 1.2107,\n",
       "  'REFLECTANCE_MAXIMUM_BAND_2': 1.2107,\n",
       "  'REFLECTANCE_MAXIMUM_BAND_3': 1.2107,\n",
       "  'REFLECTANCE_MAXIMUM_BAND_4': 1.2107,\n",
       "  'REFLECTANCE_MAXIMUM_BAND_5': 1.2107,\n",
       "  'REFLECTANCE_MAXIMUM_BAND_6': 1.2107,\n",
       "  'REFLECTANCE_MAXIMUM_BAND_7': 1.2107,\n",
       "  'REFLECTANCE_MAXIMUM_BAND_8': 1.2107,\n",
       "  'REFLECTANCE_MAXIMUM_BAND_9': 1.2107,\n",
       "  'REFLECTANCE_MINIMUM_BAND_1': -0.09998,\n",
       "  'REFLECTANCE_MINIMUM_BAND_2': -0.09998,\n",
       "  'REFLECTANCE_MINIMUM_BAND_3': -0.09998,\n",
       "  'REFLECTANCE_MINIMUM_BAND_4': -0.09998,\n",
       "  'REFLECTANCE_MINIMUM_BAND_5': -0.09998,\n",
       "  'REFLECTANCE_MINIMUM_BAND_6': -0.09998,\n",
       "  'REFLECTANCE_MINIMUM_BAND_7': -0.09998,\n",
       "  'REFLECTANCE_MINIMUM_BAND_8': -0.09998,\n",
       "  'REFLECTANCE_MINIMUM_BAND_9': -0.09998,\n",
       "  'REFLECTANCE_MULT_BAND_1': 2e-05,\n",
       "  'REFLECTANCE_MULT_BAND_2': 2e-05,\n",
       "  'REFLECTANCE_MULT_BAND_3': 2e-05,\n",
       "  'REFLECTANCE_MULT_BAND_4': 2e-05,\n",
       "  'REFLECTANCE_MULT_BAND_5': 2e-05,\n",
       "  'REFLECTANCE_MULT_BAND_6': 2e-05,\n",
       "  'REFLECTANCE_MULT_BAND_7': 2e-05,\n",
       "  'REFLECTANCE_MULT_BAND_8': 2e-05,\n",
       "  'REFLECTANCE_MULT_BAND_9': 2e-05,\n",
       "  'REFLECTIVE_LINES': 7811,\n",
       "  'REFLECTIVE_SAMPLES': 7671,\n",
       "  'REQUEST_ID': '0501403180714_00019',\n",
       "  'RESAMPLING_OPTION': 'CUBIC_CONVOLUTION',\n",
       "  'RLUT_FILE_NAME': 'L8RLUT20130211_20431231v09.h5',\n",
       "  'ROLL_ANGLE': -0.001,\n",
       "  'SCENE_CENTER_TIME': '18:46:32.0550769Z',\n",
       "  'SENSOR_ID': 'OLI_TIRS',\n",
       "  'SPACECRAFT_ID': 'LANDSAT_8',\n",
       "  'STATION_ID': 'LGN',\n",
       "  'SUN_AZIMUTH': 146.12796,\n",
       "  'SUN_ELEVATION': 46.62627,\n",
       "  'TARGET_WRS_PATH': 44,\n",
       "  'TARGET_WRS_ROW': 34,\n",
       "  'THERMAL_LINES': 7811,\n",
       "  'THERMAL_SAMPLES': 7671,\n",
       "  'UTM_ZONE': 10,\n",
       "  'WRS_PATH': 44,\n",
       "  'WRS_ROW': 34,\n",
       "  'catalog_cloud_cover': 0,\n",
       "  'catalog_image_quality1': 9,\n",
       "  'google:cloud_storage_path': 'gs://earthengine-public/landsat/L8/044/034/LC80440342014077LGN00.tar.bz',\n",
       "  'google:registration_count': 0,\n",
       "  'google:registration_offset_x': 0.0,\n",
       "  'google:registration_offset_y': 0.0,\n",
       "  'google:registration_ratio': 0.0,\n",
       "  'system:asset_size': 1111776792,\n",
       "  'system:footprint': {'coordinates': [[-122.94791489639657,\n",
       "     38.527264207214785],\n",
       "    [-123.43741582878239, 36.80265641650244],\n",
       "    [-121.36616438726278, 36.406619995029075],\n",
       "    [-120.8291431082849, 38.12977333324088],\n",
       "    [-122.94791489639657, 38.527264207214785]],\n",
       "   'type': 'LinearRing'},\n",
       "  'system:index': 'LC80440342014077LGN00',\n",
       "  'system:time_end': 1395168392055,\n",
       "  'system:time_start': 1395168392055},\n",
       " 'type': 'Image',\n",
       " 'version': 1494581634190000}"
      ]
     },
     "execution_count": 16,
     "metadata": {},
     "output_type": "execute_result"
    }
   ],
   "source": [
    "# Retorna lista com informação sobre a imagem\n",
    "imageInfo = image.getInfo()\n",
    "imageInfo"
   ]
  },
  {
   "cell_type": "code",
   "execution_count": 17,
   "metadata": {},
   "outputs": [
    {
     "data": {
      "text/plain": [
       "dict_keys(['id', 'type', 'bands', 'properties', 'version'])"
      ]
     },
     "execution_count": 17,
     "metadata": {},
     "output_type": "execute_result"
    }
   ],
   "source": [
    "imageInfo.keys()"
   ]
  },
  {
   "cell_type": "code",
   "execution_count": 18,
   "metadata": {},
   "outputs": [
    {
     "name": "stdout",
     "output_type": "stream",
     "text": [
      "B1\n",
      "B2\n",
      "B3\n",
      "B4\n",
      "B5\n",
      "B6\n",
      "B7\n",
      "B8\n",
      "B9\n",
      "B10\n",
      "B11\n",
      "BQA\n"
     ]
    }
   ],
   "source": [
    "# Exibindo as bandas da imagem\n",
    "for i in range(len(imageInfo['bands'])):\n",
    "    print(imageInfo['bands'][i]['id'])"
   ]
  },
  {
   "cell_type": "code",
   "execution_count": 19,
   "metadata": {},
   "outputs": [
    {
     "data": {
      "text/plain": [
       "{'BPF_NAME_OLI': 'LO8BPF20140318183249_20140318190412.01',\n",
       " 'BPF_NAME_TIRS': 'LT8BPF20140318182855_20140318190505.01',\n",
       " 'CLOUD_COVER': 0.34,\n",
       " 'CORNER_LL_LAT_PRODUCT': 36.41617,\n",
       " 'CORNER_LL_LON_PRODUCT': -123.44059,\n",
       " 'CORNER_LL_PROJECTION_X_PRODUCT': 460500.0,\n",
       " 'CORNER_LL_PROJECTION_Y_PRODUCT': 4030200.0,\n",
       " 'CORNER_LR_LAT_PRODUCT': 36.39807,\n",
       " 'CORNER_LR_LON_PRODUCT': -120.87463,\n",
       " 'CORNER_LR_PROJECTION_X_PRODUCT': 690600.0,\n",
       " 'CORNER_LR_PROJECTION_Y_PRODUCT': 4030200.0,\n",
       " 'CORNER_UL_LAT_PRODUCT': 38.52802,\n",
       " 'CORNER_UL_LON_PRODUCT': -123.45317,\n",
       " 'CORNER_UL_PROJECTION_X_PRODUCT': 460500.0,\n",
       " 'CORNER_UL_PROJECTION_Y_PRODUCT': 4264500.0,\n",
       " 'CORNER_UR_LAT_PRODUCT': 38.50849,\n",
       " 'CORNER_UR_LON_PRODUCT': -120.81403,\n",
       " 'CORNER_UR_PROJECTION_X_PRODUCT': 690600.0,\n",
       " 'CORNER_UR_PROJECTION_Y_PRODUCT': 4264500.0,\n",
       " 'CPF_NAME': 'L8CPF20140101_20140331.03',\n",
       " 'DATA_TYPE': 'L1T',\n",
       " 'DATE_ACQUIRED': '2014-03-18',\n",
       " 'DATUM': 'WGS84',\n",
       " 'EARTH_SUN_DISTANCE': 0.9953709,\n",
       " 'ELEVATION_SOURCE': 'GLS2000',\n",
       " 'ELLIPSOID': 'WGS84',\n",
       " 'FILE_DATE': 1395178381000,\n",
       " 'GEOMETRIC_RMSE_MODEL': 6.794,\n",
       " 'GEOMETRIC_RMSE_MODEL_X': 4.855,\n",
       " 'GEOMETRIC_RMSE_MODEL_Y': 4.753,\n",
       " 'GEOMETRIC_RMSE_VERIFY': 3.238,\n",
       " 'GRID_CELL_SIZE_PANCHROMATIC': 15.0,\n",
       " 'GRID_CELL_SIZE_REFLECTIVE': 30.0,\n",
       " 'GRID_CELL_SIZE_THERMAL': 30.0,\n",
       " 'GROUND_CONTROL_POINTS_MODEL': 527,\n",
       " 'GROUND_CONTROL_POINTS_VERIFY': 165,\n",
       " 'IMAGE_QUALITY_OLI': 9,\n",
       " 'IMAGE_QUALITY_TIRS': 9,\n",
       " 'K1_CONSTANT_BAND_10': 774.89,\n",
       " 'K1_CONSTANT_BAND_11': 480.89,\n",
       " 'K2_CONSTANT_BAND_10': 1321.08,\n",
       " 'K2_CONSTANT_BAND_11': 1201.14,\n",
       " 'LANDSAT_SCENE_ID': 'LC80440342014077LGN00',\n",
       " 'MAP_PROJECTION': 'UTM',\n",
       " 'NADIR_OFFNADIR': 'NADIR',\n",
       " 'ORIENTATION': 'NORTH_UP',\n",
       " 'ORIGIN': 'Image courtesy of the U.S. Geological Survey',\n",
       " 'PANCHROMATIC_LINES': 15621,\n",
       " 'PANCHROMATIC_SAMPLES': 15341,\n",
       " 'PROCESSING_SOFTWARE_VERSION': 'LPGS_2.3.0',\n",
       " 'QUANTIZE_CAL_MAX_BAND_1': 65535,\n",
       " 'QUANTIZE_CAL_MAX_BAND_10': 65535,\n",
       " 'QUANTIZE_CAL_MAX_BAND_11': 65535,\n",
       " 'QUANTIZE_CAL_MAX_BAND_2': 65535,\n",
       " 'QUANTIZE_CAL_MAX_BAND_3': 65535,\n",
       " 'QUANTIZE_CAL_MAX_BAND_4': 65535,\n",
       " 'QUANTIZE_CAL_MAX_BAND_5': 65535,\n",
       " 'QUANTIZE_CAL_MAX_BAND_6': 65535,\n",
       " 'QUANTIZE_CAL_MAX_BAND_7': 65535,\n",
       " 'QUANTIZE_CAL_MAX_BAND_8': 65535,\n",
       " 'QUANTIZE_CAL_MAX_BAND_9': 65535,\n",
       " 'QUANTIZE_CAL_MIN_BAND_1': 1,\n",
       " 'QUANTIZE_CAL_MIN_BAND_10': 1,\n",
       " 'QUANTIZE_CAL_MIN_BAND_11': 1,\n",
       " 'QUANTIZE_CAL_MIN_BAND_2': 1,\n",
       " 'QUANTIZE_CAL_MIN_BAND_3': 1,\n",
       " 'QUANTIZE_CAL_MIN_BAND_4': 1,\n",
       " 'QUANTIZE_CAL_MIN_BAND_5': 1,\n",
       " 'QUANTIZE_CAL_MIN_BAND_6': 1,\n",
       " 'QUANTIZE_CAL_MIN_BAND_7': 1,\n",
       " 'QUANTIZE_CAL_MIN_BAND_8': 1,\n",
       " 'QUANTIZE_CAL_MIN_BAND_9': 1,\n",
       " 'RADIANCE_ADD_BAND_1': -63.36405,\n",
       " 'RADIANCE_ADD_BAND_10': 0.1,\n",
       " 'RADIANCE_ADD_BAND_11': 0.1,\n",
       " 'RADIANCE_ADD_BAND_2': -64.88556,\n",
       " 'RADIANCE_ADD_BAND_3': -59.79149,\n",
       " 'RADIANCE_ADD_BAND_4': -50.41956,\n",
       " 'RADIANCE_ADD_BAND_5': -30.85425,\n",
       " 'RADIANCE_ADD_BAND_6': -7.67317,\n",
       " 'RADIANCE_ADD_BAND_7': -2.58627,\n",
       " 'RADIANCE_ADD_BAND_8': -57.06106,\n",
       " 'RADIANCE_ADD_BAND_9': -12.05854,\n",
       " 'RADIANCE_MAXIMUM_BAND_1': 767.1486,\n",
       " 'RADIANCE_MAXIMUM_BAND_10': 22.0018,\n",
       " 'RADIANCE_MAXIMUM_BAND_11': 22.0018,\n",
       " 'RADIANCE_MAXIMUM_BAND_2': 785.5695,\n",
       " 'RADIANCE_MAXIMUM_BAND_3': 723.8956,\n",
       " 'RADIANCE_MAXIMUM_BAND_4': 610.42957,\n",
       " 'RADIANCE_MAXIMUM_BAND_5': 373.55246,\n",
       " 'RADIANCE_MAXIMUM_BAND_6': 92.89909,\n",
       " 'RADIANCE_MAXIMUM_BAND_7': 31.31197,\n",
       " 'RADIANCE_MAXIMUM_BAND_8': 690.83826,\n",
       " 'RADIANCE_MAXIMUM_BAND_9': 145.99277,\n",
       " 'RADIANCE_MINIMUM_BAND_1': -63.35138,\n",
       " 'RADIANCE_MINIMUM_BAND_10': 0.10033,\n",
       " 'RADIANCE_MINIMUM_BAND_11': 0.10033,\n",
       " 'RADIANCE_MINIMUM_BAND_2': -64.87259,\n",
       " 'RADIANCE_MINIMUM_BAND_3': -59.77953,\n",
       " 'RADIANCE_MINIMUM_BAND_4': -50.40947,\n",
       " 'RADIANCE_MINIMUM_BAND_5': -30.84808,\n",
       " 'RADIANCE_MINIMUM_BAND_6': -7.67164,\n",
       " 'RADIANCE_MINIMUM_BAND_7': -2.58575,\n",
       " 'RADIANCE_MINIMUM_BAND_8': -57.04965,\n",
       " 'RADIANCE_MINIMUM_BAND_9': -12.05613,\n",
       " 'RADIANCE_MULT_BAND_1': 0.012673,\n",
       " 'RADIANCE_MULT_BAND_10': 0.0003342,\n",
       " 'RADIANCE_MULT_BAND_11': 0.0003342,\n",
       " 'RADIANCE_MULT_BAND_2': 0.012977,\n",
       " 'RADIANCE_MULT_BAND_3': 0.011958,\n",
       " 'RADIANCE_MULT_BAND_4': 0.010084,\n",
       " 'RADIANCE_MULT_BAND_5': 0.0061709,\n",
       " 'RADIANCE_MULT_BAND_6': 0.0015346,\n",
       " 'RADIANCE_MULT_BAND_7': 0.00051725,\n",
       " 'RADIANCE_MULT_BAND_8': 0.011412,\n",
       " 'RADIANCE_MULT_BAND_9': 0.0024117,\n",
       " 'REFLECTANCE_ADD_BAND_1': -0.1,\n",
       " 'REFLECTANCE_ADD_BAND_2': -0.1,\n",
       " 'REFLECTANCE_ADD_BAND_3': -0.1,\n",
       " 'REFLECTANCE_ADD_BAND_4': -0.1,\n",
       " 'REFLECTANCE_ADD_BAND_5': -0.1,\n",
       " 'REFLECTANCE_ADD_BAND_6': -0.1,\n",
       " 'REFLECTANCE_ADD_BAND_7': -0.1,\n",
       " 'REFLECTANCE_ADD_BAND_8': -0.1,\n",
       " 'REFLECTANCE_ADD_BAND_9': -0.1,\n",
       " 'REFLECTANCE_MAXIMUM_BAND_1': 1.2107,\n",
       " 'REFLECTANCE_MAXIMUM_BAND_2': 1.2107,\n",
       " 'REFLECTANCE_MAXIMUM_BAND_3': 1.2107,\n",
       " 'REFLECTANCE_MAXIMUM_BAND_4': 1.2107,\n",
       " 'REFLECTANCE_MAXIMUM_BAND_5': 1.2107,\n",
       " 'REFLECTANCE_MAXIMUM_BAND_6': 1.2107,\n",
       " 'REFLECTANCE_MAXIMUM_BAND_7': 1.2107,\n",
       " 'REFLECTANCE_MAXIMUM_BAND_8': 1.2107,\n",
       " 'REFLECTANCE_MAXIMUM_BAND_9': 1.2107,\n",
       " 'REFLECTANCE_MINIMUM_BAND_1': -0.09998,\n",
       " 'REFLECTANCE_MINIMUM_BAND_2': -0.09998,\n",
       " 'REFLECTANCE_MINIMUM_BAND_3': -0.09998,\n",
       " 'REFLECTANCE_MINIMUM_BAND_4': -0.09998,\n",
       " 'REFLECTANCE_MINIMUM_BAND_5': -0.09998,\n",
       " 'REFLECTANCE_MINIMUM_BAND_6': -0.09998,\n",
       " 'REFLECTANCE_MINIMUM_BAND_7': -0.09998,\n",
       " 'REFLECTANCE_MINIMUM_BAND_8': -0.09998,\n",
       " 'REFLECTANCE_MINIMUM_BAND_9': -0.09998,\n",
       " 'REFLECTANCE_MULT_BAND_1': 2e-05,\n",
       " 'REFLECTANCE_MULT_BAND_2': 2e-05,\n",
       " 'REFLECTANCE_MULT_BAND_3': 2e-05,\n",
       " 'REFLECTANCE_MULT_BAND_4': 2e-05,\n",
       " 'REFLECTANCE_MULT_BAND_5': 2e-05,\n",
       " 'REFLECTANCE_MULT_BAND_6': 2e-05,\n",
       " 'REFLECTANCE_MULT_BAND_7': 2e-05,\n",
       " 'REFLECTANCE_MULT_BAND_8': 2e-05,\n",
       " 'REFLECTANCE_MULT_BAND_9': 2e-05,\n",
       " 'REFLECTIVE_LINES': 7811,\n",
       " 'REFLECTIVE_SAMPLES': 7671,\n",
       " 'REQUEST_ID': '0501403180714_00019',\n",
       " 'RESAMPLING_OPTION': 'CUBIC_CONVOLUTION',\n",
       " 'RLUT_FILE_NAME': 'L8RLUT20130211_20431231v09.h5',\n",
       " 'ROLL_ANGLE': -0.001,\n",
       " 'SCENE_CENTER_TIME': '18:46:32.0550769Z',\n",
       " 'SENSOR_ID': 'OLI_TIRS',\n",
       " 'SPACECRAFT_ID': 'LANDSAT_8',\n",
       " 'STATION_ID': 'LGN',\n",
       " 'SUN_AZIMUTH': 146.12796,\n",
       " 'SUN_ELEVATION': 46.62627,\n",
       " 'TARGET_WRS_PATH': 44,\n",
       " 'TARGET_WRS_ROW': 34,\n",
       " 'THERMAL_LINES': 7811,\n",
       " 'THERMAL_SAMPLES': 7671,\n",
       " 'UTM_ZONE': 10,\n",
       " 'WRS_PATH': 44,\n",
       " 'WRS_ROW': 34,\n",
       " 'catalog_cloud_cover': 0,\n",
       " 'catalog_image_quality1': 9,\n",
       " 'google:cloud_storage_path': 'gs://earthengine-public/landsat/L8/044/034/LC80440342014077LGN00.tar.bz',\n",
       " 'google:registration_count': 0,\n",
       " 'google:registration_offset_x': 0.0,\n",
       " 'google:registration_offset_y': 0.0,\n",
       " 'google:registration_ratio': 0.0,\n",
       " 'system:asset_size': 1111776792,\n",
       " 'system:footprint': {'coordinates': [[-122.94791489639657,\n",
       "    38.527264207214785],\n",
       "   [-123.43741582878239, 36.80265641650244],\n",
       "   [-121.36616438726278, 36.406619995029075],\n",
       "   [-120.8291431082849, 38.12977333324088],\n",
       "   [-122.94791489639657, 38.527264207214785]],\n",
       "  'type': 'LinearRing'},\n",
       " 'system:index': 'LC80440342014077LGN00',\n",
       " 'system:time_end': 1395168392055,\n",
       " 'system:time_start': 1395168392055}"
      ]
     },
     "execution_count": 19,
     "metadata": {},
     "output_type": "execute_result"
    }
   ],
   "source": [
    "imageInfo['properties']"
   ]
  },
  {
   "cell_type": "code",
   "execution_count": 20,
   "metadata": {},
   "outputs": [
    {
     "data": {
      "text/plain": [
       "0.34"
      ]
     },
     "execution_count": 20,
     "metadata": {},
     "output_type": "execute_result"
    }
   ],
   "source": [
    "imageInfo['properties']['CLOUD_COVER']"
   ]
  },
  {
   "cell_type": "markdown",
   "metadata": {},
   "source": [
    "## Correção Atmosférica (L8)\n",
    "\n",
    "$L_{\\lambda} = M_{L}Q_{cal} + A_{L}$\n",
    "\n",
    "$L_{\\lambda} =$ TOA spectral radiance $W/(m^{2}*srad*\\mu m)$ <br>\n",
    "$M_{L} = $ Band-specific multiplicative rescaling factor from the metadata (RADIANCE_MULT_BAND_x, where x is the band number)<br>\n",
    "$Q_{cal} = $ Band-specific additive rescaling factor from the metadata (RADIANCE_ADD_BAND_x, where x is the band number)<br>\n",
    "$A_{L} = $ Quantized and calibrated standard product pixel values (DN)<br>\n",
    "\n",
    "\n",
    "> **Radiância:** Densidade do fluxo luminoso em elemento de superfície de uma fonte de energia."
   ]
  },
  {
   "cell_type": "code",
   "execution_count": 21,
   "metadata": {},
   "outputs": [
    {
     "name": "stdout",
     "output_type": "stream",
     "text": [
      "ML = 0.001535\n",
      "Qcal = -7.673170\n"
     ]
    }
   ],
   "source": [
    "# Obtendo parâmetros da imagem\n",
    "ML = imageInfo['properties']['RADIANCE_MULT_BAND_6']\n",
    "Qcal = imageInfo['properties']['RADIANCE_ADD_BAND_6']\n",
    "\n",
    "Al = image.select('B6')\n",
    "print(\"ML = %f\" %(ML))\n",
    "print(\"Qcal = %f\" %(Qcal))"
   ]
  },
  {
   "cell_type": "code",
   "execution_count": 22,
   "metadata": {},
   "outputs": [
    {
     "data": {
      "text/html": [
       "<img src=\"https://earthengine.googleapis.com/api/thumb?thumbid=100855cf6281e0ced6dc294ae53c9e90&token=41bad5cb2779a6e03191218502570876\"/>"
      ],
      "text/plain": [
       "<IPython.core.display.Image object>"
      ]
     },
     "execution_count": 22,
     "metadata": {},
     "output_type": "execute_result"
    }
   ],
   "source": [
    "Image(url=Al.getThumbUrl())"
   ]
  },
  {
   "cell_type": "code",
   "execution_count": 23,
   "metadata": {
    "collapsed": true
   },
   "outputs": [],
   "source": [
    "# Calculando a correção na plataforma Earth Engine\n",
    "L = image.expression(\n",
    "    'ML * Qcal * Al',{\n",
    "        'ML': ML,\n",
    "        'Qcal': Qcal,\n",
    "        'Al': Al\n",
    "    }\n",
    ")"
   ]
  },
  {
   "cell_type": "code",
   "execution_count": 24,
   "metadata": {},
   "outputs": [
    {
     "data": {
      "text/html": [
       "<img src=\"https://earthengine.googleapis.com/api/thumb?thumbid=cb97998c75e78907a38cd83391b38d74&token=f38e3bdd8703333f1f3530370683da25\"/>"
      ],
      "text/plain": [
       "<IPython.core.display.Image object>"
      ]
     },
     "execution_count": 24,
     "metadata": {},
     "output_type": "execute_result"
    }
   ],
   "source": [
    "Image(url=L.getThumbUrl())"
   ]
  },
  {
   "cell_type": "markdown",
   "metadata": {},
   "source": [
    "## Correção para o Topo da Atmosfera (TOA)"
   ]
  },
  {
   "cell_type": "markdown",
   "metadata": {
    "collapsed": true
   },
   "source": [
    "$\\rho\\lambda' = M_{\\rho}Q_{cal} + A_{\\rho}$\n",
    "\n",
    "$\\rho\\lambda' =$ TOA planetary reflectance, without correction for solar angle.  Note that $\\rho\\lambda'$ does not contain a correction for the sun angle<br>\n",
    "$M_{\\rho} = $ Band-specific multiplicative rescaling factor from the metadata (REFLECTANCE_MULT_BAND_x, where x is the band number)<br>\n",
    "$Q_{cal} = $ Quantized and calibrated standard product pixel values (DN)<br>\n",
    "$A_{L} = $ Band-specific additive rescaling factor from the metadata (REFLECTANCE_ADD_BAND_x, where x is the band number)<br>\n",
    "\n",
    "> **Reflecância:** $R = \\frac{F_{r}}{F_{T}}$ <br>\n",
    "> $F_{r} = $ Fluxo de radiação eletromagnética refletido. <br>\n",
    "> $F_{t} = $ Fluxo de radiação eletromagnética incidente.\n",
    "\n",
    "> Como exercício façam a correção em função do Ângulo Solar <br>\n",
    "> Mais informações: https://landsat.usgs.gov/using-usgs-landsat-8-product"
   ]
  },
  {
   "cell_type": "markdown",
   "metadata": {},
   "source": [
    "## Trabalhando com Bandas (Plots)\n",
    "\n",
    "Composição de bandas podem ser feitas para melhorar a visualização dos dados "
   ]
  },
  {
   "cell_type": "code",
   "execution_count": 25,
   "metadata": {},
   "outputs": [
    {
     "data": {
      "text/html": [
       "<img src=\"https://earthengine.googleapis.com/api/thumb?thumbid=c2ff93049bef51fd9e1497da0b2c2c30&token=e816190936c9fbd38c9671c1a80848ed\"/>"
      ],
      "text/plain": [
       "<IPython.core.display.Image object>"
      ]
     },
     "execution_count": 25,
     "metadata": {},
     "output_type": "execute_result"
    }
   ],
   "source": [
    "# Plotando imagem com composição de bandas para obter uma melhor visualização\n",
    "# l8_image é a imagem filtrada e reduzida com pixels mais recentes\n",
    "Image(url=l8_image.getThumbUrl({\n",
    "    'region':region_vicosa,\n",
    "    'bands':'B4,B3,B2',\n",
    "    'min':0,\n",
    "    'max':0.3\n",
    "}))"
   ]
  },
  {
   "cell_type": "markdown",
   "metadata": {},
   "source": [
    "## Reducing Image Collections\n",
    "\n",
    "Reducers são métodos para agregar dados ao longo do tempo, espaço, bandas, arrays e outras estruturas de dados no Earth Engine.\n",
    "\n",
    "### ImageCollection.mosaic Reducer"
   ]
  },
  {
   "cell_type": "code",
   "execution_count": 26,
   "metadata": {},
   "outputs": [
    {
     "data": {
      "text/html": [
       "<img src=\"https://earthengine.googleapis.com/api/thumb?thumbid=2252f31809536539e6c19acb770638b9&token=ad5164cde6a25c0acb11720cdc058fcf\"/>"
      ],
      "text/plain": [
       "<IPython.core.display.Image object>"
      ]
     },
     "execution_count": 26,
     "metadata": {},
     "output_type": "execute_result"
    }
   ],
   "source": [
    "# Pixel mais recente\n",
    "filtDate = l8.filterDate('2016-01-01', '2017-01-01')\n",
    "\n",
    "l8_vico = filtDate.mosaic()\n",
    "Image(url=l8_vico.getThumbUrl({\n",
    "    'region':region_vicosa,\n",
    "    'bands':'B4,B3,B2',\n",
    "    'min':0,\n",
    "    'max':0.3\n",
    "}))"
   ]
  },
  {
   "cell_type": "markdown",
   "metadata": {},
   "source": [
    "### ImageCollection.median Reducer"
   ]
  },
  {
   "cell_type": "code",
   "execution_count": 27,
   "metadata": {},
   "outputs": [
    {
     "data": {
      "text/html": [
       "<img src=\"https://earthengine.googleapis.com/api/thumb?thumbid=2e9ca02867bdf6330c3e345659761941&token=14512ff8dae2ac333d729ae48743107c\"/>"
      ],
      "text/plain": [
       "<IPython.core.display.Image object>"
      ]
     },
     "execution_count": 27,
     "metadata": {},
     "output_type": "execute_result"
    }
   ],
   "source": [
    "# mediana dos pixels\n",
    "l8_vico = filtDate.median()\n",
    "Image(url=l8_vico.getThumbUrl({\n",
    "    'region':region_vicosa,\n",
    "    'bands':'B4,B3,B2',\n",
    "    'min':0,\n",
    "    'max':0.3\n",
    "}))"
   ]
  },
  {
   "cell_type": "markdown",
   "metadata": {},
   "source": [
    "### ImageCollection.min Reducer"
   ]
  },
  {
   "cell_type": "code",
   "execution_count": 28,
   "metadata": {},
   "outputs": [
    {
     "data": {
      "text/html": [
       "<img src=\"https://earthengine.googleapis.com/api/thumb?thumbid=d25224c7b3a2c6a609d7c202f0d2a528&token=fb95eff5ff3f811af8a20996fb7a94b0\"/>"
      ],
      "text/plain": [
       "<IPython.core.display.Image object>"
      ]
     },
     "execution_count": 28,
     "metadata": {},
     "output_type": "execute_result"
    }
   ],
   "source": [
    "# Pixel de valor mínimo\n",
    "l8_vico = filtDate.min()\n",
    "Image(url=l8_vico.getThumbUrl({\n",
    "    'region':region_vicosa,\n",
    "    'bands':'B4,B3,B2',\n",
    "    'min':0,\n",
    "    'max':0.3\n",
    "}))"
   ]
  }
 ],
 "metadata": {
  "kernelspec": {
   "display_name": "Python 3",
   "language": "python",
   "name": "python3"
  },
  "language_info": {
   "codemirror_mode": {
    "name": "ipython",
    "version": 3
   },
   "file_extension": ".py",
   "mimetype": "text/x-python",
   "name": "python",
   "nbconvert_exporter": "python",
   "pygments_lexer": "ipython3",
   "version": "3.5.3"
  }
 },
 "nbformat": 4,
 "nbformat_minor": 2
}
