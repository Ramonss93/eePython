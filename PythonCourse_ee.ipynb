{
 "cells": [
  {
   "cell_type": "markdown",
   "metadata": {},
   "source": [
    "<img align=\"right\" src=\"files/logo_grupo_en_verde.png\" style=\"width: 200px;\"/> \n",
    "<br>\n",
    "<br>\n",
    "<br>\n",
    "<br>\n",
    "<img align=\"left\" src=\"files/ee.png\" style=\"width: 800px;\"/>"
   ]
  },
  {
   "cell_type": "markdown",
   "metadata": {
    "collapsed": true
   },
   "source": [
    "# Instalação e Configuração da API Python"
   ]
  },
  {
   "cell_type": "code",
   "execution_count": null,
   "metadata": {
    "collapsed": true
   },
   "outputs": [],
   "source": [
    "!cat files/eeInstall.sh"
   ]
  },
  {
   "cell_type": "markdown",
   "metadata": {},
   "source": [
    "## Verificando a Instalação"
   ]
  },
  {
   "cell_type": "code",
   "execution_count": null,
   "metadata": {
    "collapsed": true
   },
   "outputs": [],
   "source": [
    "# Importando e Inicializando a API do Google Engine\n",
    "import ee\n",
    "ee.Initialize()"
   ]
  },
  {
   "cell_type": "code",
   "execution_count": null,
   "metadata": {},
   "outputs": [],
   "source": [
    "# Importando dados da plataforma\n",
    "srtm = ee.Image(\"CGIAR/SRTM90_V4\")\n",
    "info = srtm.getInfo()\n",
    "print(info)"
   ]
  },
  {
   "cell_type": "code",
   "execution_count": null,
   "metadata": {},
   "outputs": [],
   "source": [
    "list(info.keys())"
   ]
  },
  {
   "cell_type": "markdown",
   "metadata": {},
   "source": [
    "# Images\n",
    "\n",
    "## Visualização de dados utilizando Ipython.display"
   ]
  },
  {
   "cell_type": "code",
   "execution_count": null,
   "metadata": {},
   "outputs": [],
   "source": [
    "from IPython.display import Image\n",
    "Image(url=srtm.getThumbUrl())"
   ]
  },
  {
   "cell_type": "code",
   "execution_count": null,
   "metadata": {},
   "outputs": [],
   "source": [
    "# Adicionando parâmetros para melhorar a visualização\n",
    "Image(url=srtm.getThumbUrl({'min':0, 'max':3000}))"
   ]
  },
  {
   "cell_type": "markdown",
   "metadata": {},
   "source": [
    "Por padrão o método **.getTumbUrl()** retorna o mapa com toda a sua extensão (neste caso, global). É possível especificar parâmetros para uma extensão menor."
   ]
  },
  {
   "cell_type": "markdown",
   "metadata": {},
   "source": [
    "## Definindo uma região para a plotagem da base de dados"
   ]
  },
  {
   "cell_type": "code",
   "execution_count": null,
   "metadata": {},
   "outputs": [],
   "source": [
    "# Definindo um ponto para a cidade de Viçosa - MG\n",
    "pointVico = ee.Geometry.Point(-42.8786, -20.7549)\n",
    "\n",
    "# Criando uma região de buffer em  torno do ponto criado (m)\n",
    "region_vicosa = pointVico.buffer(50000).bounds().getInfo()['coordinates']\n",
    "\n",
    "# Plotando os dados\n",
    "Image(url=srtm.getThumbUrl({'min':0, 'max':1000, 'region':region_vicosa}))"
   ]
  },
  {
   "cell_type": "markdown",
   "metadata": {},
   "source": [
    "#  Image Collection\n",
    "\n",
    "## Carregando e Filtrando Image Collections"
   ]
  },
  {
   "cell_type": "code",
   "execution_count": null,
   "metadata": {},
   "outputs": [],
   "source": [
    "# Define a collection\n",
    "l8 = ee.ImageCollection('LANDSAT/LC8_L1T_TOA')\n",
    "\n",
    "# Filtra a collection para o período ('2016-05-01', '2017-06-30')\n",
    "filtered = l8.filterDate('2016-05-01', '2017-06-30');\n",
    "\n",
    "# O redutor de mosaico seleciona o pixel mais recente nas áreas de sobreposição\n",
    "l8_image = filtered.mosaic()\n",
    "\n",
    "# Define uma região que cobre a cidade de viçosa - MG\n",
    "point = ee.Geometry.Point(-42.8786, -20.7549)\n",
    "region_vicosa = point.buffer(50000).bounds().getInfo()['coordinates']\n",
    "\n",
    "# Plota a collection\n",
    "Image(url=l8_image.getThumbUrl({'region':region_vicosa}))"
   ]
  },
  {
   "cell_type": "markdown",
   "metadata": {},
   "source": [
    "É possível obter todas as informações da imagem através de seus metadados"
   ]
  },
  {
   "cell_type": "code",
   "execution_count": null,
   "metadata": {},
   "outputs": [],
   "source": [
    "# Carregando imagem\n",
    "image = ee.Image('LANDSAT/LC8_L1T/LC80440342014077LGN00')\n",
    "Image(url=image.getThumbUrl())"
   ]
  },
  {
   "cell_type": "code",
   "execution_count": null,
   "metadata": {},
   "outputs": [],
   "source": [
    "# Retorna lista com informação sobre a imagem\n",
    "imageInfo = image.getInfo()\n",
    "imageInfo"
   ]
  },
  {
   "cell_type": "code",
   "execution_count": null,
   "metadata": {},
   "outputs": [],
   "source": [
    "imageInfo.keys()"
   ]
  },
  {
   "cell_type": "code",
   "execution_count": null,
   "metadata": {},
   "outputs": [],
   "source": [
    "# Exibindo as bandas da imagem\n",
    "for i in range(len(imageInfo['bands'])):\n",
    "    print(imageInfo['bands'][i]['id'])"
   ]
  },
  {
   "cell_type": "code",
   "execution_count": null,
   "metadata": {},
   "outputs": [],
   "source": [
    "imageInfo['properties']"
   ]
  },
  {
   "cell_type": "code",
   "execution_count": null,
   "metadata": {},
   "outputs": [],
   "source": [
    "imageInfo['properties']['CLOUD_COVER']"
   ]
  },
  {
   "cell_type": "markdown",
   "metadata": {},
   "source": [
    "## Correção Atmosférica (L8)\n",
    "\n",
    "$L_{\\lambda} = M_{L}Q_{cal} + A_{L}$\n",
    "\n",
    "$L_{\\lambda} =$ TOA spectral radiance $W/(m^{2}*srad*\\mu m)$ <br>\n",
    "$M_{L} = $ Band-specific multiplicative rescaling factor from the metadata (RADIANCE_MULT_BAND_x, where x is the band number)<br>\n",
    "$Q_{cal} = $ Band-specific additive rescaling factor from the metadata (RADIANCE_ADD_BAND_x, where x is the band number)<br>\n",
    "$A_{L} = $ Quantized and calibrated standard product pixel values (DN)<br>\n",
    "\n",
    "\n",
    "> **Radiância:** Densidade do fluxo luminoso em elemento de superfície de uma fonte de energia."
   ]
  },
  {
   "cell_type": "code",
   "execution_count": null,
   "metadata": {},
   "outputs": [],
   "source": [
    "# Obtendo parâmetros da imagem\n",
    "ML = imageInfo['properties']['RADIANCE_MULT_BAND_6']\n",
    "Qcal = imageInfo['properties']['RADIANCE_ADD_BAND_6']\n",
    "\n",
    "Al = image.select('B6')\n",
    "print(\"ML = %f\" %(ML))\n",
    "print(\"Qcal = %f\" %(Qcal))"
   ]
  },
  {
   "cell_type": "code",
   "execution_count": null,
   "metadata": {},
   "outputs": [],
   "source": [
    "Image(url=Al.getThumbUrl())"
   ]
  },
  {
   "cell_type": "code",
   "execution_count": null,
   "metadata": {},
   "outputs": [],
   "source": [
    "# Calculando a correção na plataforma Earth Engine\n",
    "L = image.expression(\n",
    "    'ML * Qcal * Al',{\n",
    "        'ML': ML,\n",
    "        'Qcal': Qcal,\n",
    "        'Al': Al\n",
    "    }\n",
    ")"
   ]
  },
  {
   "cell_type": "code",
   "execution_count": null,
   "metadata": {},
   "outputs": [],
   "source": [
    "Image(url=L.getThumbUrl())"
   ]
  },
  {
   "cell_type": "markdown",
   "metadata": {},
   "source": [
    "## Correção para o Topo da Atmosfera (TOA)"
   ]
  },
  {
   "cell_type": "markdown",
   "metadata": {
    "collapsed": true
   },
   "source": [
    "$\\rho\\lambda' = M_{\\rho}Q_{cal} + A_{\\rho}$\n",
    "\n",
    "$\\rho\\lambda' =$ TOA planetary reflectance, without correction for solar angle.  Note that $\\rho\\lambda'$ does not contain a correction for the sun angle<br>\n",
    "$M_{\\rho} = $ Band-specific multiplicative rescaling factor from the metadata (REFLECTANCE_MULT_BAND_x, where x is the band number)<br>\n",
    "$Q_{cal} = $ Quantized and calibrated standard product pixel values (DN)<br>\n",
    "$A_{L} = $ Band-specific additive rescaling factor from the metadata (REFLECTANCE_ADD_BAND_x, where x is the band number)<br>\n",
    "\n",
    "> **Reflecância:** $R = \\frac{F_{r}}{F_{T}}$ <br>\n",
    "> $F_{r} = $ Fluxo de radiação eletromagnética refletido. <br>\n",
    "> $F_{t} = $ Fluxo de radiação eletromagnética incidente.\n",
    "\n",
    "> Como exercício façam a correção em função do Ângulo Solar <br>\n",
    "> Mais informações: https://landsat.usgs.gov/using-usgs-landsat-8-product"
   ]
  },
  {
   "cell_type": "markdown",
   "metadata": {},
   "source": [
    "## Trabalhando com Bandas (Plots)\n",
    "\n",
    "Composição de bandas podem ser feitas para melhorar a visualização dos dados "
   ]
  },
  {
   "cell_type": "code",
   "execution_count": null,
   "metadata": {},
   "outputs": [],
   "source": [
    "# Plotando imagem com composição de bandas para obter uma melhor visualização\n",
    "# l8_image é a imagem filtrada e reduzida com pixels mais recentes\n",
    "Image(url=l8_image.getThumbUrl({\n",
    "    'region':region_vicosa,\n",
    "    'bands':'B4,B3,B2',\n",
    "    'min':0,\n",
    "    'max':0.3\n",
    "}))"
   ]
  },
  {
   "cell_type": "markdown",
   "metadata": {},
   "source": [
    "## Reducing Image Collections\n",
    "\n",
    "Reducers são métodos para agregar dados ao longo do tempo, espaço, bandas, arrays e outras estruturas de dados no Earth Engine.\n",
    "\n",
    "### ImageCollection.mosaic Reducer"
   ]
  },
  {
   "cell_type": "code",
   "execution_count": null,
   "metadata": {},
   "outputs": [],
   "source": [
    "# Pixel mais recente\n",
    "filtDate = l8.filterDate('2016-01-01', '2017-01-01')\n",
    "\n",
    "l8_vico = filtDate.mosaic()\n",
    "Image(url=l8_vico.getThumbUrl({\n",
    "    'region':region_vicosa,\n",
    "    'bands':'B4,B3,B2',\n",
    "    'min':0,\n",
    "    'max':0.3\n",
    "}))"
   ]
  },
  {
   "cell_type": "markdown",
   "metadata": {},
   "source": [
    "### ImageCollection.median Reducer"
   ]
  },
  {
   "cell_type": "code",
   "execution_count": null,
   "metadata": {},
   "outputs": [],
   "source": [
    "# mediana dos pixels\n",
    "l8_vico = filtDate.median()\n",
    "Image(url=l8_vico.getThumbUrl({\n",
    "    'region':region_vicosa,\n",
    "    'bands':'B4,B3,B2',\n",
    "    'min':0,\n",
    "    'max':0.3\n",
    "}))"
   ]
  },
  {
   "cell_type": "markdown",
   "metadata": {},
   "source": [
    "### ImageCollection.min Reducer"
   ]
  },
  {
   "cell_type": "code",
   "execution_count": null,
   "metadata": {},
   "outputs": [],
   "source": [
    "# Pixel de valor mínimo\n",
    "l8_vico = filtDate.min()\n",
    "Image(url=l8_vico.getThumbUrl({\n",
    "    'region':region_vicosa,\n",
    "    'bands':'B4,B3,B2',\n",
    "    'min':0,\n",
    "    'max':0.3\n",
    "}))"
   ]
  }
 ],
 "metadata": {
  "kernelspec": {
   "display_name": "Python 3",
   "language": "python",
   "name": "python3"
  },
  "language_info": {
   "codemirror_mode": {
    "name": "ipython",
    "version": 3
   },
   "file_extension": ".py",
   "mimetype": "text/x-python",
   "name": "python",
   "nbconvert_exporter": "python",
   "pygments_lexer": "ipython3",
   "version": "3.5.3"
  }
 },
 "nbformat": 4,
 "nbformat_minor": 2
}
