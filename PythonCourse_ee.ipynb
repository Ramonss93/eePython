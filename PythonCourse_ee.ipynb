{
 "cells": [
  {
   "cell_type": "markdown",
   "metadata": {},
   "source": [
    "![](files/ee.png)"
   ]
  },
  {
   "cell_type": "markdown",
   "metadata": {
    "collapsed": true
   },
   "source": [
    "# Instalação e Configuração da API Python"
   ]
  },
  {
   "cell_type": "code",
   "execution_count": null,
   "metadata": {
    "collapsed": true
   },
   "outputs": [],
   "source": [
    "!cat files/eeInstall.sh"
   ]
  },
  {
   "cell_type": "markdown",
   "metadata": {},
   "source": [
    "## Verificando a Instalação"
   ]
  },
  {
   "cell_type": "code",
   "execution_count": null,
   "metadata": {
    "collapsed": true
   },
   "outputs": [],
   "source": [
    "# Importando e Inicializando a API do Google Engine\n",
    "import ee\n",
    "ee.Initialize()"
   ]
  },
  {
   "cell_type": "code",
   "execution_count": null,
   "metadata": {
    "collapsed": true
   },
   "outputs": [],
   "source": [
    "# Importando dados da plataforma\n",
    "srtm = ee.Image(\"CGIAR/SRTM90_V4\")\n",
    "info = srtm.getInfo()\n",
    "print(info)"
   ]
  },
  {
   "cell_type": "markdown",
   "metadata": {},
   "source": [
    "# Images\n",
    "\n",
    "## Carregando Imagens"
   ]
  },
  {
   "cell_type": "code",
   "execution_count": null,
   "metadata": {
    "collapsed": true
   },
   "outputs": [],
   "source": [
    "from IPython.display import Image\n",
    "\n",
    "Image(url=srtm.getThumbUrl())"
   ]
  },
  {
   "cell_type": "code",
   "execution_count": null,
   "metadata": {
    "collapsed": true
   },
   "outputs": [],
   "source": [
    "# Adicionando parâmetros para melhorar a visualização\n",
    "Image(url=srtm.getThumbUrl({'min':0, 'max':3000}))"
   ]
  },
  {
   "cell_type": "markdown",
   "metadata": {},
   "source": [
    "Por padrão o método **.getTumbUrl()** retorna o mapa com toda a sua extensão (neste caso, global). Pode-se especificar parâmetros para uma extensão menor."
   ]
  },
  {
   "cell_type": "code",
   "execution_count": null,
   "metadata": {
    "collapsed": true
   },
   "outputs": [],
   "source": [
    "#20.7549° S, 42.8786° W\n",
    "point = ee.Geometry.Point(-42.8786, -20.7549)\n",
    "region_vicosa = point.buffer(50000).bounds().getInfo()['coordinates']\n",
    "Image(url=srtm.getThumbUrl({'min':0, 'max':1000, 'region':region_vicosa}))"
   ]
  },
  {
   "cell_type": "markdown",
   "metadata": {},
   "source": [
    "#  Image Collection\n",
    "\n",
    "## Carregando e Filtrando Image Collections"
   ]
  },
  {
   "cell_type": "code",
   "execution_count": null,
   "metadata": {
    "collapsed": true
   },
   "outputs": [],
   "source": [
    "# Define a collection\n",
    "l8 = ee.ImageCollection('LANDSAT/LC8_L1T_TOA')\n",
    "\n",
    "# Filtra a collection para o período ('2017-05-01', '2017-05-30')\n",
    "filtered = l8.filterDate('2017-05-01', '2017-05-30');\n",
    "\n",
    "# O redutor de mosaico seleciona o pixel mais recente nas áreas de sobreposição\n",
    "l8_image = filtered.mosaic()\n",
    "\n",
    "# Define uma região que cobre a cidade de viçosa - MG\n",
    "point = ee.Geometry.Point(-42.8786, -20.7549)\n",
    "region_vicosa = point.buffer(500000).bounds().getInfo()['coordinates']\n",
    "\n",
    "# Plota a collection\n",
    "Image(url=l8_image.getThumbUrl({'region':region_vicosa}))"
   ]
  },
  {
   "cell_type": "markdown",
   "metadata": {},
   "source": [
    "## Trabalhando com Bandas"
   ]
  },
  {
   "cell_type": "code",
   "execution_count": null,
   "metadata": {
    "collapsed": true
   },
   "outputs": [],
   "source": [
    "Image(url=l8_image.getThumbUrl({\n",
    "    'region':region_vicosa,\n",
    "    'bands':'B4,B3,B2',\n",
    "    'min':0,\n",
    "    'max':0.3\n",
    "}))"
   ]
  },
  {
   "cell_type": "markdown",
   "metadata": {},
   "source": [
    "## Reducing Image Collections\n",
    "\n",
    "### ImageCollection.mosaic Reducer"
   ]
  },
  {
   "cell_type": "code",
   "execution_count": null,
   "metadata": {
    "collapsed": true
   },
   "outputs": [],
   "source": [
    "filtered = l8.filterDate('2016-01-01', '2017-01-01')\n",
    "\n",
    "l8_image = filtered.mosaic()\n",
    "Image(url=l8_image.getThumbUrl({\n",
    "    'region':region_vicosa,\n",
    "    'bands':'B4,B3,B2',\n",
    "    'min':0,\n",
    "    'max':0.3\n",
    "}))"
   ]
  },
  {
   "cell_type": "markdown",
   "metadata": {},
   "source": [
    "### ImageCollection.median Reducer"
   ]
  },
  {
   "cell_type": "code",
   "execution_count": null,
   "metadata": {
    "collapsed": true
   },
   "outputs": [],
   "source": [
    "l8_image = filtered.median()\n",
    "Image(url=l8_image.getThumbUrl({\n",
    "    'region':region_vicosa,\n",
    "    'bands':'B4,B3,B2',\n",
    "    'min':0,\n",
    "    'max':0.3\n",
    "}))"
   ]
  },
  {
   "cell_type": "markdown",
   "metadata": {},
   "source": [
    "### ImageCollection.min Reducer"
   ]
  },
  {
   "cell_type": "code",
   "execution_count": null,
   "metadata": {
    "collapsed": true
   },
   "outputs": [],
   "source": [
    "l8_image = filtered.min()\n",
    "Image(url=l8_image.getThumbUrl({\n",
    "    'region':region_california,\n",
    "    'bands':'B4,B3,B2',\n",
    "    'min':0,\n",
    "    'max':0.3\n",
    "}))"
   ]
  }
 ],
 "metadata": {
  "kernelspec": {
   "display_name": "Python 3",
   "language": "python",
   "name": "python3"
  },
  "language_info": {
   "codemirror_mode": {
    "name": "ipython",
    "version": 3
   },
   "file_extension": ".py",
   "mimetype": "text/x-python",
   "name": "python",
   "nbconvert_exporter": "python",
   "pygments_lexer": "ipython3",
   "version": "3.5.3"
  }
 },
 "nbformat": 4,
 "nbformat_minor": 2
}
