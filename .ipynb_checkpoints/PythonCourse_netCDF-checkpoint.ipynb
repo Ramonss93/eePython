{
 "cells": [
  {
   "cell_type": "markdown",
   "metadata": {
    "collapsed": false,
    "deletable": true,
    "editable": true
   },
   "source": [
    "# Introdução ao módulo Basemap\n",
    "\n",
    "Matplotlib Basemap Toolkit é uma biblioteca para plotagem de mapas em Python.\n",
    "\n",
    "> [Documentação](http://matplotlib.org/basemap/index.html)"
   ]
  },
  {
   "cell_type": "code",
   "execution_count": null,
   "metadata": {
    "collapsed": false,
    "deletable": true,
    "editable": true
   },
   "outputs": [],
   "source": [
    "# importando pacotes e módulos necessários\n",
    "import numpy as np\n",
    "import matplotlib.pyplot as plt\n",
    "from mpl_toolkits.basemap import Basemap"
   ]
  },
  {
   "cell_type": "code",
   "execution_count": null,
   "metadata": {
    "collapsed": false,
    "deletable": true,
    "editable": true
   },
   "outputs": [],
   "source": [
    "# Criando um mapa com matplotlib\n",
    "mapa = Basemap() # Classe basemap  - padrão Plate Carrée projection centrado nas coordenadas [0,0]\n",
    "mapa.drawcoastlines() # Desenha as coastlines\n",
    "plt.show()"
   ]
  },
  {
   "cell_type": "code",
   "execution_count": null,
   "metadata": {
    "collapsed": false,
    "deletable": true,
    "editable": true
   },
   "outputs": [],
   "source": [
    "# Criando um mapa com parâmetros definidos\n",
    "mapa = Basemap(projection='ortho', lat_0=-20.7549, lon_0=-42.8786)\n",
    "mapa.drawmapboundary(fill_color='aqua')\n",
    "mapa.fillcontinents(color='lightgrey',lake_color='blue')\n",
    "\n",
    "plt.show()"
   ]
  },
  {
   "cell_type": "code",
   "execution_count": null,
   "metadata": {
    "collapsed": false,
    "deletable": true,
    "editable": true
   },
   "outputs": [],
   "source": [
    "help(Basemap)"
   ]
  },
  {
   "cell_type": "code",
   "execution_count": null,
   "metadata": {
    "collapsed": false,
    "deletable": true,
    "editable": true
   },
   "outputs": [],
   "source": [
    "# Criando mapa com parâmetros definidos\n",
    "mapa = Basemap(llcrnrlon=-70,llcrnrlat=-34,urcrnrlon=-34,urcrnrlat=5,\n",
    "resolution='i', projection='merc', lat_0 = -42, lon_0 = -20)\n",
    "mapa.drawmapboundary(fill_color='aqua')\n",
    "mapa.fillcontinents(color='green',lake_color='aqua')\n",
    "mapa.drawcoastlines()\n",
    "plt.show()"
   ]
  },
  {
   "cell_type": "markdown",
   "metadata": {
    "deletable": true,
    "editable": true
   },
   "source": [
    "## Trabalhando com arquivos netCDF"
   ]
  },
  {
   "cell_type": "code",
   "execution_count": null,
   "metadata": {
    "collapsed": true,
    "deletable": true,
    "editable": true
   },
   "outputs": [],
   "source": [
    "# importando pacotes e módulos necessários\n",
    "from netCDF4 import Dataset\n",
    "import numpy as np\n",
    "import matplotlib.pyplot as plt\n",
    "from mpl_toolkits.basemap import Basemap"
   ]
  },
  {
   "cell_type": "code",
   "execution_count": null,
   "metadata": {
    "collapsed": false,
    "deletable": true,
    "editable": true
   },
   "outputs": [],
   "source": [
    "# Lendo arquivo netCDF e armazenando algumas variáveis e atributos\n",
    "lucultsoja2012 = 'files/LUCULTSOJA2012.nc'\n",
    "lu = Dataset(lucultsoja2012, mode='r')\n",
    "lons = lu.variables['lon'][:]\n",
    "lats = lu.variables['lat'][:]\n",
    "landuse = lu.variables['landuse'][:][:]\n",
    "landuse_units = lu.variables['landuse'].units\n",
    "lu.close()\n",
    "\n",
    "# Define alguns parâmetros para o mapa e a figura\n",
    "fig=plt.figure(figsize=(8,4.5), dpi=300)\n",
    "mapa = Basemap(llcrnrlon=-70,llcrnrlat=-34,urcrnrlon=-34,urcrnrlat=5, \\\n",
    "               resolution='l',projection='tmerc',lat_0=-42,lon_0=-20)\n",
    "\n",
    "# Cria um grid retangular para as coordenadas\n",
    "lon, lat = np.meshgrid(lons, lats)\n",
    "xi, yi = mapa(lon, lat)\n",
    "\n",
    "# Mascara os dados com valor igual a zero\n",
    "landuse = np.ma.masked_where(landuse == 0, landuse)\n",
    "\n",
    "# Cria a paleta de cores\n",
    "cs = mapa.pcolor(xi,yi,np.squeeze(landuse), linewidths=1.)\n",
    "\n",
    "# Define plotagem de paralellos, meridianos de divisões políticas\n",
    "mapa.drawparallels(np.arange(-80., 81., 10.), labels=[1,0,0,0], fontsize=5)\n",
    "mapa.drawmeridians(np.arange(-180., 181., 10.), labels=[0,0,0,1], fontsize=5)\n",
    "mapa.drawcoastlines(linewidth=0.4)\n",
    "mapa.drawcountries(linewidth=0.3)\n",
    "mapa.drawstates(linewidth=0.2)\n",
    "\n",
    "cbar = mapa.colorbar(cs, location=\"bottom\", pad=\"5%\")\n",
    "cbar.set_label(landuse_units)\n",
    "\n",
    "plt.title(\"Landuse\")\n",
    "\n",
    "plt.show()"
   ]
  },
  {
   "cell_type": "code",
   "execution_count": null,
   "metadata": {
    "collapsed": true,
    "deletable": true,
    "editable": true
   },
   "outputs": [],
   "source": []
  }
 ],
 "metadata": {
  "kernelspec": {
   "display_name": "Python 3",
   "language": "python",
   "name": "python3"
  },
  "language_info": {
   "codemirror_mode": {
    "name": "ipython",
    "version": 3
   },
   "file_extension": ".py",
   "mimetype": "text/x-python",
   "name": "python",
   "nbconvert_exporter": "python",
   "pygments_lexer": "ipython3",
   "version": "3.5.3"
  }
 },
 "nbformat": 4,
 "nbformat_minor": 2
}
