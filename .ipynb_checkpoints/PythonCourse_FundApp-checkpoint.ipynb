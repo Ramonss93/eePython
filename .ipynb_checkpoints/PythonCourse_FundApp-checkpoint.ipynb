{
 "cells": [
  {
   "cell_type": "markdown",
   "metadata": {
    "collapsed": true,
    "deletable": true,
    "editable": true
   },
   "source": [
    "<img align=\"right\" src=\"files/logo_grupo_en_verde.png\" style=\"width: 200px;\"/> \n",
    "<br>\n",
    "<br>\n",
    "<br>\n",
    "<br>\n",
    "# Python - Fundamentos e Aplicações\n",
    "\n",
    "Jupyter Notebook é uma ferramenta excelente para:\n",
    "\n",
    "* Análise de dados (i.e. Analytics);\n",
    "* Exploração interativa de dados;\n",
    "* Aulas e Documentação;\n",
    "* Aprender Python, R, Julia e dezenas de outras linguagens suportadas;\n",
    "* ...\n",
    "\n",
    "**Jupyter** é a mistura de **Julia**, **Python** e **R**.\n",
    "\n",
    "Jupyter é um aplicativo que permite ver e editar documentos de forma interativa utilizando **notebooks**. Um **notebook** é composto de células com texto, código e/ou imagens.\n",
    "\n",
    "> **Maiores informações e documentação sobre jupyter**: [jupyter.org](http://jupyter.org/). <br>\n",
    "> **Documentação Python 3**: [Python 3 Docs](https://docs.python.org/3.6/contents.html)."
   ]
  },
  {
   "cell_type": "markdown",
   "metadata": {
    "deletable": true,
    "editable": true
   },
   "source": [
    "## Instalação e Dependências\n",
    "\n",
    "* Verificar se o PIP3.x (Python Package Index) está instalado e atualizado no sistema\n",
    "    - python3 -m pip install -U pip\n",
    "    - pip3 install --upgrade pip\n",
    "* Instalar o Jupyter\n",
    "    - pip3 install jupyter\n",
    "* Remover Token Authentication do Jupyter\n",
    "    - jupyter notebook --generate-config\n",
    "    - no arquivo *jupyter_notebook_config.py* buscar por *c.NotebookApp.token = generated* e modificar por *c.NotebookApp.token = ''*"
   ]
  },
  {
   "cell_type": "markdown",
   "metadata": {
    "deletable": true,
    "editable": true
   },
   "source": [
    "## Executar códigos no Jupyter Notebook\n",
    "\n",
    "1. Selecione uma célula do notenook.\n",
    "2. Pressione `SHIFT+ENTER`, `CTRL+ENTER` ou clique no play (<button class='fa fa-step-forward icon-play btn btn-xs btn-default'></button>)."
   ]
  },
  {
   "cell_type": "code",
   "execution_count": null,
   "metadata": {
    "collapsed": false,
    "deletable": true,
    "editable": true
   },
   "outputs": [],
   "source": [
    "#Faça o teste de execução com SHIFT+ENTER e CTRL+ENTER para ver a diferença\n",
    "print(1 + 1)\n",
    "print(2 * 3)\n",
    "\n",
    "def fatorial(n):\n",
    "    return 1 if n < 2 else n * fatorial(n-1)\n",
    "\n",
    "fatorial(5)\n",
    "    "
   ]
  },
  {
   "cell_type": "markdown",
   "metadata": {
    "deletable": true,
    "editable": true
   },
   "source": [
    "## Python como  uma calculadora\n",
    "\n",
    "* operadores algébricos\n",
    " * a + b\n",
    " * a - b\n",
    " * a * b\n",
    " * a / b\n",
    " * a ** b\n",
    "* operadores booleanos\n",
    " * a == b\n",
    " * a != b\n",
    " * a <> b\n",
    " * a > b\n",
    " * a < b\n",
    " * a % b"
   ]
  },
  {
   "cell_type": "code",
   "execution_count": null,
   "metadata": {
    "collapsed": false,
    "deletable": true,
    "editable": true
   },
   "outputs": [],
   "source": [
    "# teste aqui\n",
    "a = 2\n",
    "b = 3\n",
    "print(2*a >= b)\n",
    "print(a**2)"
   ]
  },
  {
   "cell_type": "markdown",
   "metadata": {
    "deletable": true,
    "editable": true
   },
   "source": [
    "## Variáveis\n",
    "**Python** é uma linguagem de tipagem dinâmica e  não há a necessidade de declarar variáveis.\n",
    "\n",
    "Para saber qual o tipo de uma variável utilize a função *type*."
   ]
  },
  {
   "cell_type": "code",
   "execution_count": null,
   "metadata": {
    "collapsed": false,
    "deletable": true,
    "editable": true
   },
   "outputs": [],
   "source": [
    "# Exemplo\n",
    "a = 3\n",
    "nome = \"Fernando\"\n",
    "b = 23.09\n",
    "c = [1, 3, 4.56, 67.890]"
   ]
  },
  {
   "cell_type": "markdown",
   "metadata": {
    "deletable": true,
    "editable": true
   },
   "source": [
    "# Tipos de Objetos\n",
    "\n",
    "## Strings\n",
    "Sequência de caracteres.\n"
   ]
  },
  {
   "cell_type": "code",
   "execution_count": null,
   "metadata": {
    "collapsed": false,
    "deletable": true,
    "editable": true
   },
   "outputs": [],
   "source": [
    "palavra = 'dinâmica'\n",
    "print(palavra)\n",
    "print(palavra[2])\n",
    "print(palavra[2:5])\n",
    "print(6*palavra[3:4])\n",
    "print(palavra[0:8:3])\n",
    "print(palavra[::-1])"
   ]
  },
  {
   "cell_type": "markdown",
   "metadata": {
    "deletable": true,
    "editable": true
   },
   "source": [
    "## Lists\n",
    "Listas ordenadas de elementos de qualquer tipo que podem ser modificados."
   ]
  },
  {
   "cell_type": "code",
   "execution_count": null,
   "metadata": {
    "collapsed": false,
    "deletable": true,
    "editable": true
   },
   "outputs": [],
   "source": [
    "numeros = [1,2,3]\n",
    "nomes = ['Lívia, Pauline, Emily']\n",
    "\n",
    "l1 = [1,2,3]\n",
    "l2 = [4,5,6]\n",
    "l3 = [7,8,9]\n",
    "matrix = [l1,l2,l3]\n",
    "matrix[0][2]"
   ]
  },
  {
   "cell_type": "markdown",
   "metadata": {
    "deletable": true,
    "editable": true
   },
   "source": [
    "## Tuple\n",
    "Tuplas são listas imutáveis. Uma vêz criadas não podem ser modificadas."
   ]
  },
  {
   "cell_type": "code",
   "execution_count": null,
   "metadata": {
    "collapsed": false,
    "deletable": true,
    "editable": true
   },
   "outputs": [],
   "source": [
    "numeros = (1,2,3)\n",
    "nomes = ('Lívia, Pauline, Emily')"
   ]
  },
  {
   "cell_type": "markdown",
   "metadata": {
    "deletable": true,
    "editable": true
   },
   "source": [
    "## Dicionary\n",
    "Conteineres indexados de forma não sequencial. \n",
    " - O endereçamento é feito por meio de chaves\n",
    " - Cada chave tem um valor atribuído\n",
    " - O acesso aos valores de um dicionário é feito pelas chaves"
   ]
  },
  {
   "cell_type": "code",
   "execution_count": null,
   "metadata": {
    "collapsed": false,
    "deletable": true,
    "editable": true
   },
   "outputs": [],
   "source": [
    "departamento = {'sigla':'DEA','nome':'Departamento de Engenharia Agrícola','CEP':36570000}\n",
    "#departamento\n",
    "#departamento['tel'] = 98888-8888\n",
    "#departamento['sigla']\n",
    "#departamento.keys()\n",
    "#departamento.items()"
   ]
  },
  {
   "cell_type": "markdown",
   "metadata": {
    "deletable": true,
    "editable": true
   },
   "source": [
    "# Formatação de Strings\n",
    "\n",
    "Syntaxe:\n",
    "\n",
    "**print** <font color='green'>\"string %tipo\"</font> **%variável**\n",
    "\n",
    "## Utilizando o objeto *format*\n",
    "\n",
    " **format_spec** ::=  [[fill]align][sign][#][0][width][,][.precision][type] <br>\n",
    " **fill**        ::=  character other than '}' <br>\n",
    " **align**       ::=  \"<\" | \">\" | \"=\" | \"^\" <br>\n",
    " **sign**        ::=  \"+\" | \"-\" | \" \" <br>\n",
    " **width**       ::=  integer <br>\n",
    " **precision**   ::=  integer <br>\n",
    " **type**        ::=  \"b\" | \"c\" | \"d\" | \"e\" | \"E\" | \"f\" | \"F\" | \"g\" | \"G\" | \"n\" | \"o\" | \"s\" | \"x\" | \"X\" | \"%\" <br>\n",
    "\n",
    "[Documentação](https://docs.python.org/3.1/library/string.html)"
   ]
  },
  {
   "cell_type": "code",
   "execution_count": null,
   "metadata": {
    "collapsed": false,
    "deletable": true,
    "editable": true
   },
   "outputs": [],
   "source": [
    "pi = 3.14159265358979323846\n",
    "print('PI = %f' %pi)\n",
    "print('PI = %.2f' %pi)\n",
    "print('PI = %.9f' %pi)\n",
    "\n",
    "cor = 'verde'\n",
    "print('%s é uma cor' %cor)\n",
    "\n",
    "print('PI = %.9e' %pi)"
   ]
  },
  {
   "cell_type": "code",
   "execution_count": null,
   "metadata": {
    "collapsed": false,
    "deletable": true,
    "editable": true
   },
   "outputs": [],
   "source": [
    "print('{2}, {1}, {0}'.format('a', 'b', 'c'))\n",
    "print('{0}{1}{0}'.format('abra', 'cad'))\n",
    "print('Coordinates: {longitude}, {latitude}'.format(latitude='16.35S', longitude='45.89W'))\n",
    "print('{:+f}; {:+f}'.format(32.25648, -65985.36528444))\n",
    "print('{:*^30}'.format('meio'))"
   ]
  },
  {
   "cell_type": "markdown",
   "metadata": {
    "deletable": true,
    "editable": true
   },
   "source": [
    "# if... Elif ... Else\n",
    "Estruturas condicionais."
   ]
  },
  {
   "cell_type": "code",
   "execution_count": null,
   "metadata": {
    "collapsed": false,
    "deletable": true,
    "editable": true
   },
   "outputs": [],
   "source": [
    "if 5 > 2:\n",
    "    print(\"OK\")"
   ]
  },
  {
   "cell_type": "code",
   "execution_count": null,
   "metadata": {
    "collapsed": false,
    "deletable": true,
    "editable": true
   },
   "outputs": [],
   "source": [
    "if 'c' > 'k':\n",
    "    print(\"OK\")\n",
    "else:\n",
    "    print(\"^~^\")"
   ]
  },
  {
   "cell_type": "code",
   "execution_count": null,
   "metadata": {
    "collapsed": false,
    "deletable": true,
    "editable": true
   },
   "outputs": [],
   "source": [
    "nome = 'Bob'\n",
    "idade = 9\n",
    "\n",
    "if ((nome == 'Bob') and (idade <= 18)):\n",
    "    print('%s não pode dirigir porque tem apenas %i anos' %(nome, idade))\n",
    "else:\n",
    "    print('%s pode dirigir porque tem %i anos' %(nome, idade))"
   ]
  },
  {
   "cell_type": "code",
   "execution_count": null,
   "metadata": {
    "collapsed": false,
    "deletable": true,
    "editable": true
   },
   "outputs": [],
   "source": [
    "dia = 'sexta'\n",
    "\n",
    "if dia == 'segunda':\n",
    "    print('vai chover')\n",
    "elif dia == 'terça':\n",
    "    print('não vai chover')\n",
    "else:\n",
    "    print('céu apenas nublado')\n",
    "    "
   ]
  },
  {
   "cell_type": "markdown",
   "metadata": {
    "deletable": true,
    "editable": true
   },
   "source": [
    "# Loops\n",
    "Loops são utilizados para fazer iterações em blocos de código."
   ]
  },
  {
   "cell_type": "markdown",
   "metadata": {
    "deletable": true,
    "editable": true
   },
   "source": [
    "## For Loop\n"
   ]
  },
  {
   "cell_type": "code",
   "execution_count": null,
   "metadata": {
    "collapsed": false,
    "deletable": true,
    "editable": true
   },
   "outputs": [],
   "source": [
    "for i in range(10):\n",
    "    print(i)\n",
    "\n",
    "print('\\n')\n",
    "    \n",
    "lista = ['arroz', 'feijão', 456.5784,'macarrão', 123]\n",
    "for j in lista:\n",
    "    print(j)\n",
    "\n",
    "print('\\n')\n",
    "\n",
    "frutas = ['uva', 'maçã', 'pêra', 'Morango']\n",
    "tamanho_lista = len(frutas)\n",
    "for i in range(0,tamanho_lista):\n",
    "    print(frutas[i])"
   ]
  },
  {
   "cell_type": "markdown",
   "metadata": {
    "deletable": true,
    "editable": true
   },
   "source": [
    "## While Loop"
   ]
  },
  {
   "cell_type": "code",
   "execution_count": null,
   "metadata": {
    "collapsed": false,
    "deletable": true,
    "editable": true
   },
   "outputs": [],
   "source": [
    "a = 0\n",
    "while a < 10:\n",
    "    print(a)\n",
    "    a = a + 1"
   ]
  },
  {
   "cell_type": "markdown",
   "metadata": {
    "deletable": true,
    "editable": true
   },
   "source": [
    "# Pass, Break, Continue\n",
    "\n",
    "- **break:** interrompe o fluxo natural do código;\n",
    "- **continue:** continua o fluxo natural do ciclo de código;\n",
    "- **pass:** deixa passar para o código seguinte."
   ]
  },
  {
   "cell_type": "code",
   "execution_count": null,
   "metadata": {
    "collapsed": false,
    "deletable": true,
    "editable": true
   },
   "outputs": [],
   "source": [
    "a = 0\n",
    "while a <= 100:\n",
    "    if a == 4:\n",
    "        break\n",
    "    else:\n",
    "        pass\n",
    "    print(a)\n",
    "    a = a + 1"
   ]
  },
  {
   "cell_type": "code",
   "execution_count": null,
   "metadata": {
    "collapsed": false,
    "deletable": true,
    "editable": true
   },
   "outputs": [],
   "source": [
    "for letter in 'Python':\n",
    "    if letter == 'h':\n",
    "        continue\n",
    "    print('Current Letter :', letter)\n",
    "\n",
    "var = 10\n",
    "while var > 0:              \n",
    "    var = var - 1\n",
    "    if var == 5:\n",
    "        continue\n",
    "    print('Current variable value :', var)\n",
    "print(\"Good bye!\")"
   ]
  },
  {
   "cell_type": "code",
   "execution_count": null,
   "metadata": {
    "collapsed": false,
    "deletable": true,
    "editable": true
   },
   "outputs": [],
   "source": [
    "precipitacao = [1.00,2.00,'NaN',200.00,100.00,'NaN',45.00,'NaN',50.00,20.00]\n",
    "for i in range(0,len(precipitacao)):\n",
    "    if(precipitacao[i] =='NaN'):\n",
    "        continue\n",
    "    print(precipitacao[i])"
   ]
  },
  {
   "cell_type": "code",
   "execution_count": null,
   "metadata": {
    "collapsed": false,
    "deletable": true,
    "editable": true
   },
   "outputs": [],
   "source": [
    "estacao = {'estacao1':1.00,'estacao2':2.00,'estacao3':'NaN','estacao4':200.00, \\\n",
    "           'estacao5':100.00,'estacao6':'NaN','estacao7':45.00,'estacao8':'NaN', \\\n",
    "           'estacao9':50.00,'estacao10':20.00}"
   ]
  },
  {
   "cell_type": "markdown",
   "metadata": {
    "deletable": true,
    "editable": true
   },
   "source": [
    "# Funções\n",
    "- Executar a mesma tarefa várias vezes;\n",
    "- Organizar o código;\n",
    "- Portabilidade;\n",
    "- ...\n",
    "\n",
    "[Funções Built-In](https://docs.python.org/3.6/library/functions.html)\n",
    "\n",
    "\n",
    "#### Syntaxe para definir uma função:\n",
    "**def** <font color=\"green\">nome_da_função</font>(parâmetros): <br>\n",
    "&nbsp;&nbsp;&nbsp;&nbsp;&nbsp;&nbsp;código\n",
    "\n",
    "> Funções podem ter quantidades de argumentos definidas ou indefinidas."
   ]
  },
  {
   "cell_type": "code",
   "execution_count": null,
   "metadata": {
    "collapsed": true,
    "deletable": true,
    "editable": true
   },
   "outputs": [],
   "source": [
    "def f(x):\n",
    "    return x**2"
   ]
  },
  {
   "cell_type": "code",
   "execution_count": null,
   "metadata": {
    "collapsed": false,
    "deletable": true,
    "editable": true
   },
   "outputs": [],
   "source": [
    "def elevar(x,y):\n",
    "    return x**y"
   ]
  },
  {
   "cell_type": "code",
   "execution_count": null,
   "metadata": {
    "collapsed": false,
    "deletable": true,
    "editable": true
   },
   "outputs": [],
   "source": [
    "def impressora(*args_impressora):\n",
    "    print(args_impressora)"
   ]
  },
  {
   "cell_type": "code",
   "execution_count": null,
   "metadata": {
    "collapsed": false,
    "deletable": true,
    "editable": true
   },
   "outputs": [],
   "source": [
    "def somatorio(*valores):\n",
    "        soma = 0\n",
    "        for i in valores:\n",
    "            soma = soma+i\n",
    "        return soma"
   ]
  },
  {
   "cell_type": "markdown",
   "metadata": {
    "deletable": true,
    "editable": true
   },
   "source": [
    "## Expressão Lambda\n",
    "Criar funções anônimas ou inline\n",
    "\n",
    "**lambda** <font color=\"darkgreen\">parâmetros_de_entrada</font>: <font color=\"red\">retorno</font>\n",
    "\n",
    "> Muito úteis quando usadas em conjunto com as funções **map()**, **filter()** e **reduce()**."
   ]
  },
  {
   "cell_type": "code",
   "execution_count": null,
   "metadata": {
    "collapsed": false,
    "deletable": true,
    "editable": true
   },
   "outputs": [],
   "source": [
    "# Definindo uma expressão lambda\n",
    "quad = lambda num: num**2\n",
    "\n",
    "par = lambda num: num%2 == 0\n",
    "\n",
    "reverso = lambda x: x[::-1]"
   ]
  },
  {
   "cell_type": "markdown",
   "metadata": {
    "deletable": true,
    "editable": true
   },
   "source": [
    "## Função Map\n",
    "Aplica uma função sobre uma sequência e retorna uma lista com os resultados.\n",
    "\n",
    "**map**(<font color='blue'>func</font>, <font color='green'>seq</font>)"
   ]
  },
  {
   "cell_type": "code",
   "execution_count": null,
   "metadata": {
    "collapsed": false,
    "deletable": true,
    "editable": true
   },
   "outputs": [],
   "source": [
    "def quad(valor):\n",
    "    return valor**2\n",
    "\n",
    "valores = [2,4,6,8,10,12,14,16]\n",
    "\n",
    "list(map(quad, valores))"
   ]
  },
  {
   "cell_type": "markdown",
   "metadata": {
    "deletable": true,
    "editable": true
   },
   "source": [
    "## Função Filter\n",
    "Retorna uma lista de elementos para os quais uma função retorna true.\n",
    "\n",
    "**filter**(<font color='blue'>func</font>, <font color='darkgreen'>seq</font>)"
   ]
  },
  {
   "cell_type": "code",
   "execution_count": null,
   "metadata": {
    "collapsed": false,
    "deletable": true,
    "editable": true
   },
   "outputs": [],
   "source": [
    "numeros = range(-5, 5)\n",
    "menorq_zero = list(filter(lambda x: x < 0, numeros))\n",
    "print(menorq_zero)"
   ]
  },
  {
   "cell_type": "code",
   "execution_count": null,
   "metadata": {
    "collapsed": false,
    "deletable": true,
    "editable": true
   },
   "outputs": [],
   "source": [
    "nums = range(0,20)\n",
    "par = list(filter(lambda num: num%2 == 0, nums))\n",
    "print(par)"
   ]
  },
  {
   "cell_type": "markdown",
   "metadata": {
    "deletable": true,
    "editable": true
   },
   "source": [
    "# Um pouco de Metaprogramação\n",
    "Programação de programas que escrevem ou manipulam outros programas (ou a si próprios), bem como seus dados.\n",
    "\n",
    " - **Metalinguagem:** linguagem em que o metaprograma é escrito. \n",
    " - **Metaobjeto:** linguagem dos programas que são manipulados.\n",
    " - **Reflexão:** habilidade de uma linguagem de programação ser a sua própria metalinguagem. \n",
    "   - Tipo de dado de primeira classe de si mesma. Exemplo: a programação genérica invoca a metaprogramação na própria linguagem.\n",
    "\n",
    "> A metaprogramação é geralmente implementada através de duas formas: \n",
    "1. A exposição do mecanismo interno de execução do código através de uma API. \n",
    "2. A execução dinâmica de expressões de texto que contém comandos de programação.\n",
    "\n",
    "Usuários Linux utilizam muita metaprogramação (e às vezes nem sabem disso!!!!).\n",
    "\n",
    "```\n",
    "#!/bin/bash\n",
    "for i in {1994..2012}; do\n",
    "  cdo remapbil,../gridDef.txt \"../PRODSOJA1degree/YIELDSOYBEAN\"$i\".nc\" \"yeildSoybean1g\"$i\".nc\"\n",
    "  gdal2xyz.py -csv \"../yieldv6/filtro/yield\"$i\"05p.nc\" \"listaYieldSoybean\"$i\"_1degree.csv\"\n",
    "  sed -i \"/-9999/d\" \"listaYieldSoybean\"$i\"_1degree.csv\"\n",
    "  sed -i \"/,0$/d\" \"listaYieldSoybean\"$i\"_1degree.csv\"\n",
    "done\n",
    "```\n",
    "\n",
    "<img align=\"right\" src=\"files/snoopyThinking.png\" style=\"width: 200px;\"/>\n",
    "\n",
    "```\n",
    "#!/bin/bash\n",
    "echo \"#!/bin/bash\" > metaPrograma\n",
    "for ((i = 1; i <= 100; i++)) do\n",
    "    echo \"echo $i\" >> metaPrograma\n",
    "done\n",
    "chmod +x metaPrograma\n",
    "./metaPrograma\n",
    "```\n",
    "\n"
   ]
  },
  {
   "cell_type": "markdown",
   "metadata": {
    "deletable": true,
    "editable": true
   },
   "source": [
    "## Decoradores (decorator)\n",
    "Um decorator é uma função (ou outro objeto chamável - callable) que recebe uma função como parâmetro e retorna uma função. Essa nova função que é retornada pelo decorator fica associada ao nome da função original."
   ]
  },
  {
   "cell_type": "code",
   "execution_count": 3,
   "metadata": {
    "collapsed": false,
    "deletable": true,
    "editable": true
   },
   "outputs": [],
   "source": [
    "# Decorando uma função (Wrapping)\n",
    "def dobro(func):\n",
    "    def g(a,b):\n",
    "        return 2*func(a,b)\n",
    "    return g\n",
    "\n",
    "def soma(a,b):\n",
    "    return a+b"
   ]
  },
  {
   "cell_type": "code",
   "execution_count": null,
   "metadata": {
    "collapsed": false,
    "deletable": true,
    "editable": true
   },
   "outputs": [],
   "source": [
    "# Forma mais amigável para decorar uma função (Wrapping)\n",
    "def dobro(func):\n",
    "    def g(a,b):\n",
    "        return 2*func(a,b)\n",
    "    return g\n",
    "\n",
    "@dobro\n",
    "def soma(a,b):\n",
    "    return a+b"
   ]
  },
  {
   "cell_type": "markdown",
   "metadata": {
    "deletable": true,
    "editable": true
   },
   "source": [
    "# Importando módulos e pacotes\n",
    "Podemos extender as funcionalidades do Python importando pacotes e módulos já existentes.\n",
    "\n",
    "\n",
    "**Algumas formas para importação de módulos e pacotes** <br>\n",
    "**import** <font color='darkgreen'>módulo</font> <br>\n",
    "**import** <font color='darkgreen'>módulo</font> **as** <font color='blue'>apelido</font> <br>\n",
    "**from** <font color='darkgreen'>módulo</font> **import** <font color='blue'>método</font> <br>\n",
    "\n",
    "**import** <font color=\"red\">pacote</font>.<font color=\"darkgreen\">módulo</font> <br>\n",
    "**import** <font color='red'>pacote</font>.<font color='darkgreen'>módulo</font> **as** <font color='blue'>apelido</font> <br>\n",
    "\n",
    "> Veremos mais sobre pacotes e módulos no decorrer do curso!"
   ]
  },
  {
   "cell_type": "markdown",
   "metadata": {
    "deletable": true,
    "editable": true
   },
   "source": [
    "## Função Reduce\n",
    "Aplica uma função de dois argumentos cumulativamente aos itens de uma sequência, da esquerda para a direita, de modo a reduzir a seqüência para um único valor.\n",
    "\n",
    "**reduce**(<font color='blue'>func</font>, <font color='darkgreen'>seq</font>)"
   ]
  },
  {
   "cell_type": "code",
   "execution_count": null,
   "metadata": {
    "collapsed": false,
    "deletable": true,
    "editable": true
   },
   "outputs": [],
   "source": [
    "from functools import reduce\n",
    "produto = reduce((lambda x, y: x * y), [1, 2, 3, 4])\n",
    "produto"
   ]
  },
  {
   "cell_type": "code",
   "execution_count": null,
   "metadata": {
    "collapsed": false,
    "deletable": true,
    "editable": true
   },
   "outputs": [],
   "source": [
    "# Busca um diagrama para exemplificar a função reduce\n",
    "from IPython.display import Image\n",
    "Image('http://www.python-course.eu/images/reduce_diagram.png')"
   ]
  },
  {
   "cell_type": "code",
   "execution_count": null,
   "metadata": {
    "collapsed": false,
    "deletable": true,
    "editable": true
   },
   "outputs": [],
   "source": [
    "def soma(a,b): return a+b\n",
    "lista = [47,11,42,13]\n",
    "reduce(soma,lista)"
   ]
  },
  {
   "cell_type": "code",
   "execution_count": null,
   "metadata": {
    "collapsed": false,
    "deletable": true,
    "editable": true
   },
   "outputs": [],
   "source": [
    "lista = [1,2,3,4]\n",
    "\n",
    "reduce(lambda x,y:x*y,lista)"
   ]
  },
  {
   "cell_type": "markdown",
   "metadata": {
    "deletable": true,
    "editable": true
   },
   "source": [
    "# List Comprehension\n",
    "Construção sintática disponível em algumas linguagens de programação para criação de uma lista baseada em listas existentes.\n",
    "\n",
    "> São mais eficientes que map(), filter(), reduce().\n",
    "\n",
    "lista = [x **for** x **in** <font color=\"red\">seq</font>]"
   ]
  },
  {
   "cell_type": "code",
   "execution_count": null,
   "metadata": {
    "collapsed": false,
    "deletable": true,
    "editable": true
   },
   "outputs": [],
   "source": [
    "lista = [x for x in 'Python']\n",
    "lista"
   ]
  },
  {
   "cell_type": "code",
   "execution_count": null,
   "metadata": {
    "collapsed": false,
    "deletable": true,
    "editable": true
   },
   "outputs": [],
   "source": [
    "lista = [x for x in range(11) if x%2 == 0]\n",
    "lista"
   ]
  },
  {
   "cell_type": "code",
   "execution_count": null,
   "metadata": {
    "collapsed": false,
    "deletable": true,
    "editable": true
   },
   "outputs": [],
   "source": [
    "# Converter graus Celsius para Farenheit\n",
    "celsius = [0, 10, 10.45, 32.0, 100]\n",
    "farenheit = [((float(9)/5)*temp + 32) for temp in celsius]\n",
    "farenheit"
   ]
  },
  {
   "cell_type": "code",
   "execution_count": null,
   "metadata": {
    "collapsed": false,
    "deletable": true,
    "editable": true
   },
   "outputs": [],
   "source": [
    "# Aninhamento\n",
    "lista = [x**2 for x in [x**2 for x in range(11)]]\n",
    "lista"
   ]
  },
  {
   "cell_type": "markdown",
   "metadata": {
    "deletable": true,
    "editable": true
   },
   "source": [
    "# Blocos Try: Except:\n",
    "\n",
    "**try**: <br>\n",
    "&nbsp;&nbsp;&nbsp;&nbsp;&nbsp;&nbsp;código <br>\n",
    "**except** <font color=\"darkgreen\">exc1</font>: <br>\n",
    "&nbsp;&nbsp;&nbsp;&nbsp;&nbsp;&nbsp;código caso ocorra esta exceção <br>\n",
    "**except** <font color=\"darkgreen\">exc2</font>: <br>\n",
    "&nbsp;&nbsp;&nbsp;&nbsp;&nbsp;&nbsp;código caso ocorra esta exceção <br>\n",
    "**else**: <br>\n",
    "&nbsp;&nbsp;&nbsp;&nbsp;&nbsp;&nbsp;código caso não ocorra exceção <br>\n",
    "**finally:** <br>\n",
    "&nbsp;&nbsp;&nbsp;&nbsp;&nbsp;&nbsp;código que sempre será executado <br>\n",
    "> **Finally** permite executar código mesmo que ocorram excessões.\n",
    "\n",
    "> [Lista de exceções built-in](https://docs.python.org/3.6/library/exceptions.html)"
   ]
  },
  {
   "cell_type": "code",
   "execution_count": null,
   "metadata": {
    "collapsed": false,
    "deletable": true,
    "editable": true
   },
   "outputs": [],
   "source": [
    "x = input('digite um nomero inteiro: ')\n",
    "y = input('digite outro número inteiro: ')\n",
    "\n",
    "print(type(x))\n",
    "print(type(y))\n",
    "print(x+y)"
   ]
  },
  {
   "cell_type": "code",
   "execution_count": null,
   "metadata": {
    "collapsed": false,
    "deletable": true,
    "editable": true
   },
   "outputs": [],
   "source": [
    "# TypeError\n",
    "try:\n",
    "    8 + 's'\n",
    "except TypeError:\n",
    "    print('Operação inválida')"
   ]
  },
  {
   "cell_type": "code",
   "execution_count": null,
   "metadata": {
    "collapsed": false,
    "deletable": true,
    "editable": true
   },
   "outputs": [],
   "source": [
    "# IOError\n",
    "try:\n",
    "    f = open('arquivoquenaoexiste.txt', 'w')\n",
    "    f.write('Grava isso no arquivo')\n",
    "except IOError:\n",
    "    print('Erro: arquivo não encontrado')\n",
    "else:\n",
    "    print('Conteúdo gravado com sucesso')\n",
    "    f.close()"
   ]
  },
  {
   "cell_type": "code",
   "execution_count": null,
   "metadata": {
    "collapsed": false,
    "deletable": true,
    "editable": true
   },
   "outputs": [],
   "source": [
    "# Utilizando Finally\n",
    "try:\n",
    "    f = open('outroquenaoexiste.txt', 'r')\n",
    "    f.write('Grava isso no arquivo')\n",
    "except IOError:\n",
    "    print('Erro: arquivo não encontrado')\n",
    "else:\n",
    "    print('Conteúdo gravado com sucesso')\n",
    "    f.close()\n",
    "finally:\n",
    "    print('Comandos no bloco finally são sempre executados!')"
   ]
  },
  {
   "cell_type": "markdown",
   "metadata": {
    "deletable": true,
    "editable": true
   },
   "source": [
    "# Arquivos\n",
    "Manipulação de arquivos em Python."
   ]
  },
  {
   "cell_type": "code",
   "execution_count": null,
   "metadata": {
    "collapsed": false,
    "deletable": true,
    "editable": true
   },
   "outputs": [],
   "source": [
    "texto = \"Este texto foi criado para que você possa entender como você pode manipular arquivos utilizando Python.\"\n",
    "texto += \"^_^!!!!!!\"\n",
    "\n",
    "print(texto)"
   ]
  },
  {
   "cell_type": "code",
   "execution_count": null,
   "metadata": {
    "collapsed": false,
    "deletable": true,
    "editable": true
   },
   "outputs": [],
   "source": [
    "# importa o módulo os\n",
    "import os\n",
    "\n",
    "# Cria um arquivo no diretório onde está seu código\n",
    "arquivo = open(os.path.join('arquivo.txt'),'w')"
   ]
  },
  {
   "cell_type": "code",
   "execution_count": null,
   "metadata": {
    "collapsed": false,
    "deletable": true,
    "editable": true
   },
   "outputs": [],
   "source": [
    "for palavra in texto.split(): arquivo.write(palavra+' ')\n",
    "    \n",
    "arquivo.close()"
   ]
  },
  {
   "cell_type": "code",
   "execution_count": null,
   "metadata": {
    "collapsed": false,
    "deletable": true,
    "editable": true
   },
   "outputs": [],
   "source": [
    "# Podemos utilizar uma exclamação para executar comandos do sistema operacional\n",
    "!cat arquivo.txt"
   ]
  },
  {
   "cell_type": "code",
   "execution_count": null,
   "metadata": {
    "collapsed": false,
    "deletable": true,
    "editable": true
   },
   "outputs": [],
   "source": [
    "arquivo = open('arquivo.txt','r')\n",
    "texto = arquivo.read()\n",
    "arquivo.close()\n",
    "\n",
    "print(texto)"
   ]
  },
  {
   "cell_type": "markdown",
   "metadata": {
    "deletable": true,
    "editable": true
   },
   "source": [
    "## Utilizando with"
   ]
  },
  {
   "cell_type": "code",
   "execution_count": null,
   "metadata": {
    "collapsed": false,
    "deletable": true,
    "editable": true
   },
   "outputs": [],
   "source": [
    "with open('arquivo.txt', 'r') as arquivo:\n",
    "    texto = arquivo.read()\n",
    "    \n",
    "print(len(texto))\n",
    "print(texto)"
   ]
  },
  {
   "cell_type": "markdown",
   "metadata": {
    "deletable": true,
    "editable": true
   },
   "source": [
    "# Orientação a Objetos\n",
    "\n",
    "Modelo de análise, projeto e programação baseado na composição e interação entre objetos com o objetivo de simular o mundo real no mundo computacional.\n",
    " \n",
    "- **Programação Estruturada**\n",
    "  - Processos;\n",
    "  - Monolítico;\n",
    "  - Baixa reusabilidade;\n",
    "  - Sequencial;\n",
    "  \n",
    "- **Programação Orientada a Objetos**\n",
    "  - Objetos;\n",
    "  - Modular;\n",
    "  - Alta reusabilidade;\n",
    "  - Não linear;\n",
    "  - Não sequencial\n",
    "  \n",
    "  \n",
    " - **Principais Conceitos da POO**\n",
    "   - Classes e Objetos;\n",
    "   - Atributos e Métodos;\n",
    "   - Encapsulamento;\n",
    "   - Herança;\n",
    "   - Polimorfismo.\n"
   ]
  },
  {
   "cell_type": "markdown",
   "metadata": {
    "deletable": true,
    "editable": true
   },
   "source": [
    "## Classes\n",
    "Estrutura que abstrai um conjunto de objetos com características similares."
   ]
  },
  {
   "cell_type": "code",
   "execution_count": null,
   "metadata": {
    "collapsed": false,
    "deletable": true,
    "editable": true
   },
   "outputs": [],
   "source": [
    "#Criando uma Classe\n",
    "class artigo():\n",
    "    # self é uma referência a cada atributo de um objeto criado a partir desta classe\n",
    "    def __init__(self):\n",
    "        #Inicializa a classe com alguns parâmetros\n",
    "        self.titulo = \"Patterns of land use, extensification, and intensification of Brazilian agriculture\"\n",
    "        self.DOI = \"http://doi.wiley.com/10.1111/gcb.13314\"\n",
    "        print(\"Construtor da classe inicializado!\")\n",
    "        \n",
    "    def imprime(self):\n",
    "        print(\"Adicionado ao banco: Artigo: %s - DOI: %s\" %(self.titulo, self.DOI))"
   ]
  },
  {
   "cell_type": "code",
   "execution_count": null,
   "metadata": {
    "collapsed": false,
    "deletable": true,
    "editable": true
   },
   "outputs": [],
   "source": [
    "# Criando uma instância da classe artigo\n",
    "artigo1 = artigo()"
   ]
  },
  {
   "cell_type": "code",
   "execution_count": null,
   "metadata": {
    "collapsed": false,
    "deletable": true,
    "editable": true
   },
   "outputs": [],
   "source": [
    "print(artigo1.titulo)\n",
    "print(artigo1.DOI)"
   ]
  },
  {
   "cell_type": "code",
   "execution_count": null,
   "metadata": {
    "collapsed": false,
    "deletable": true,
    "editable": true
   },
   "outputs": [],
   "source": [
    "print(artigo1.imprime())"
   ]
  },
  {
   "cell_type": "code",
   "execution_count": null,
   "metadata": {
    "collapsed": true,
    "deletable": true,
    "editable": true
   },
   "outputs": [],
   "source": [
    "#calculadora.py\n",
    "class Calculadora(object):\n",
    "    def __init__(self, a, b):\n",
    "        self.a = a\n",
    "        self.b = b\n",
    "\n",
    "    def soma(self):\n",
    "        return self.a + self.b\n",
    "\n",
    "    def subtrai(self):\n",
    "        return self.a - self.b\n",
    "\n",
    "    def multiplica(self):\n",
    "        return self.a * self.b\n",
    "\n",
    "    def divide(self):\n",
    "        return self.a / self.b"
   ]
  },
  {
   "cell_type": "code",
   "execution_count": null,
   "metadata": {
    "collapsed": true,
    "deletable": true,
    "editable": true
   },
   "outputs": [],
   "source": [
    "# Criar uma Classe netCDF\n"
   ]
  },
  {
   "cell_type": "markdown",
   "metadata": {
    "collapsed": true,
    "deletable": true,
    "editable": true
   },
   "source": [
    "## Métodos\n",
    "Funções definidas dentro do corpo de uma classe."
   ]
  },
  {
   "cell_type": "code",
   "execution_count": null,
   "metadata": {
    "collapsed": false,
    "deletable": true,
    "editable": true
   },
   "outputs": [],
   "source": [
    "class Circulo:\n",
    "    pi = 3.14\n",
    "    def __init__(self, raio = 5):\n",
    "        self.raio = raio\n",
    "        \n",
    "    def area(self):\n",
    "        return (self.raio*self.raio)*Circulo.pi\n",
    "    \n",
    "    def setRaio(self, novoRaio):\n",
    "        self.raio = novoRaio\n",
    "        \n",
    "    def getRaio(self):\n",
    "        return self.raio"
   ]
  },
  {
   "cell_type": "markdown",
   "metadata": {
    "deletable": true,
    "editable": true
   },
   "source": [
    "## Herança\n",
    " - Classes compartilham atributos e métodos, através de \"heranças\".\n",
    " - Forma para gerar novas classes usando classes pré-definidas."
   ]
  },
  {
   "cell_type": "code",
   "execution_count": null,
   "metadata": {
    "collapsed": true,
    "deletable": true,
    "editable": true
   },
   "outputs": [],
   "source": [
    "class Cilindro(Circulo):\n",
    "    \n",
    "    def __init__(self, altura = 10.0):\n",
    "        self.altura = altura\n",
    "        print(\"SubClasse Cilindro inicializando com a Superclasse Circulo.\")\n",
    "        print(\"Altura padrão: %6.3f\" %(self.altura))\n",
    "        \n",
    "    def volume(self):\n",
    "        return self.altura*self.area()"
   ]
  },
  {
   "cell_type": "code",
   "execution_count": null,
   "metadata": {
    "collapsed": false,
    "deletable": true,
    "editable": true
   },
   "outputs": [],
   "source": [
    "ci = Cilindro()"
   ]
  },
  {
   "cell_type": "markdown",
   "metadata": {
    "deletable": true,
    "editable": true
   },
   "source": [
    "## Métodos especiais\n",
    "Utiliza a sintaxe padrão do python para fazer chamadas a métodos sem a necessidade de fazer chamadas ao método específico.\n",
    "\n",
    "> [Mais informações sobre métodos especiais.](https://docs.python.org/3/reference/datamodel.html#special-method-names)"
   ]
  },
  {
   "cell_type": "code",
   "execution_count": null,
   "metadata": {
    "collapsed": false,
    "deletable": true,
    "editable": true
   },
   "outputs": [],
   "source": [
    "class artigo():\n",
    "    # self é uma referência a cada atributo de um objeto criado a partir desta classe\n",
    "    def __init__(self, titulo, DOI):\n",
    "        #Inicializa a classe com alguns parâmetros\n",
    "        self.titulo = titulo\n",
    "        self.DOI = DOI\n",
    "        \n",
    "    def __str__(self):\n",
    "        return \"Artigo: %s \\n DOI: %s\" %(self.titulo, self.DOI) \n",
    "        \n",
    "    def imprime(self):\n",
    "        print(\"Adicionado ao banco: Artigo: %s - DOI: %s\" %(self.titulo, self.DOI))"
   ]
  },
  {
   "cell_type": "code",
   "execution_count": null,
   "metadata": {
    "collapsed": false,
    "deletable": true,
    "editable": true
   },
   "outputs": [],
   "source": [
    "titulo = \"Patterns of land use, extensification, and intensification of Brazilian agriculture\"\n",
    "DOI = \"http://doi.wiley.com/10.1111/gcb.13314\""
   ]
  },
  {
   "cell_type": "markdown",
   "metadata": {
    "deletable": true,
    "editable": true
   },
   "source": [
    "# Módulos\n",
    "Um módulo é um arquivo Python contendo definições e instruções.\n",
    "* Importação de módulos built-in\n",
    "* Criação de módulos\n",
    "\n",
    "> **Formas para importação de módulos** <br>\n",
    "> **import** <font color='darkgreen'>módulo</font> <br>\n",
    "> **import** <font color='darkgreen'>módulo</font> **as** <font color='blue'>apelido</font> <br>\n",
    "> **from** <font color='darkgreen'>módulo</font> **import** <font color='blue'>método</font> <br>"
   ]
  },
  {
   "cell_type": "code",
   "execution_count": null,
   "metadata": {
    "collapsed": false,
    "deletable": true,
    "editable": true
   },
   "outputs": [],
   "source": [
    "# importando um módulo\n",
    "import math"
   ]
  },
  {
   "cell_type": "code",
   "execution_count": null,
   "metadata": {
    "collapsed": false,
    "deletable": true,
    "editable": true
   },
   "outputs": [],
   "source": [
    "# Lista todos os métodos de um módulo\n",
    "dir(math)"
   ]
  },
  {
   "cell_type": "code",
   "execution_count": null,
   "metadata": {
    "collapsed": true,
    "deletable": true,
    "editable": true
   },
   "outputs": [],
   "source": [
    "# Importa apenas um método de um módulo\n",
    "from math import sqrt"
   ]
  },
  {
   "cell_type": "code",
   "execution_count": null,
   "metadata": {
    "collapsed": false,
    "deletable": true,
    "editable": true
   },
   "outputs": [],
   "source": [
    "# Mostra ajuda sobre um método\n",
    "help(math.fsum)"
   ]
  },
  {
   "cell_type": "code",
   "execution_count": null,
   "metadata": {
    "collapsed": false,
    "deletable": true,
    "editable": true
   },
   "outputs": [],
   "source": [
    "import statistics\n",
    "print(dir(statistics))"
   ]
  },
  {
   "cell_type": "code",
   "execution_count": null,
   "metadata": {
    "collapsed": false,
    "deletable": true,
    "editable": true
   },
   "outputs": [],
   "source": [
    "dados = [2.23,4.56,7.34,9.56,1.09,2,76]\n",
    "statistics.mean(dados)"
   ]
  },
  {
   "cell_type": "markdown",
   "metadata": {
    "deletable": true,
    "editable": true
   },
   "source": [
    "## Criando e importando um módulo\n",
    "\n",
    "1. Crie um arquivo .py (i.e. meu_modulo.py);\n",
    "2. Importe o módulo usando a palavra chave **import**.\n",
    "\n",
    "> **import** <font color='darkgreen'>módulo</font> <br>\n",
    "> **import** <font color='darkgreen'>módulo</font> **as** <font color='blue'>apelido</font> <br>\n",
    "> **from** <font color='darkgreen'>módulo</font> **import** <font color='blue'>método</font> <br>"
   ]
  },
  {
   "cell_type": "code",
   "execution_count": null,
   "metadata": {
    "collapsed": false,
    "deletable": true,
    "editable": true
   },
   "outputs": [],
   "source": [
    "# Exemplo"
   ]
  },
  {
   "cell_type": "markdown",
   "metadata": {
    "deletable": true,
    "editable": true
   },
   "source": [
    "# Packages\n",
    "Pacotes são módulos Python que podem conter outros pacotes. Em termos de armazenamento, módulos são estruturados em arquivos, pacotes são estruturados em pastas.\n",
    "\n",
    "> - Módulos são arquivos python; <br>\n",
    "> - Pacotes são diretórios contendo módulos e um arquivo **__init__.py**."
   ]
  },
  {
   "cell_type": "code",
   "execution_count": null,
   "metadata": {
    "collapsed": false,
    "deletable": true,
    "editable": true
   },
   "outputs": [],
   "source": [
    "import urllib.request\n",
    "resposta = urllib.request.urlopen('http://jupyter.org/')\n",
    "html = resposta.read()\n",
    "print(html)"
   ]
  },
  {
   "cell_type": "code",
   "execution_count": null,
   "metadata": {
    "collapsed": false,
    "deletable": true,
    "editable": true
   },
   "outputs": [],
   "source": [
    "# Exemplo\n",
    "# Pegando informações da cotação das ações da Petrobras e gerando um gráfico\n",
    "from urllib.request import urlopen\n",
    "import matplotlib.pyplot as plt\n",
    "import pandas\n",
    "%matplotlib inline\n",
    "\n",
    "endereco = 'http://ichart.finance.yahoo.com/table.csv?s=PETR4.SA&d=0&e=28&f=2010&g=d&a=3&b=12&c=1996&ignore=.csv'\n",
    "arquivo = urlopen(endereco)\n",
    "\n",
    "petrobras = pandas.read_csv(arquivo, index_col=0, parse_dates=True)\n",
    "\n",
    "# Visualizar como os dados estão\n",
    "petrobras.head()\n",
    "df = pandas.DataFrame(petrobras)\n",
    "df"
   ]
  },
  {
   "cell_type": "code",
   "execution_count": null,
   "metadata": {
    "collapsed": false,
    "deletable": true,
    "editable": true
   },
   "outputs": [],
   "source": [
    "petrobras.plot(y='Adj Close')\n",
    "\n",
    "plt.xlabel('Ano')\n",
    "plt.ylabel('Cotação')\n",
    "plt.legend().set_visible(False)\n",
    "plt.show()"
   ]
  },
  {
   "cell_type": "markdown",
   "metadata": {
    "collapsed": true,
    "deletable": true,
    "editable": true
   },
   "source": [
    "> **Criar e Importar seus próprios pacotes** <br>\n",
    "> - Crie um diretório com seus módulos (i.e. modulo1.py, modulo2.py, ...);\n",
    "> - Importe o módulo usando a seguinte sintaxe: <br>\n",
    "> &nbsp;&nbsp;&nbsp;&nbsp;&nbsp;&nbsp; **import** <font color=\"blue\">pacote</font>.<font color=\"red\">módulo</font> <br>\n",
    "> - Deve-se adicionar dentro dos diretórios e subdiretórios o arquivo \\__init\\__.py."
   ]
  },
  {
   "cell_type": "code",
   "execution_count": null,
   "metadata": {
    "collapsed": false,
    "deletable": true,
    "editable": true
   },
   "outputs": [],
   "source": [
    "# Estrutura de um pacote\n",
    "Image('https://cdn.programiz.com/sites/tutorial2program/files/PackageModuleStructure.jpg')"
   ]
  }
 ],
 "metadata": {
  "kernelspec": {
   "display_name": "Python 3",
   "language": "python",
   "name": "python3"
  },
  "language_info": {
   "codemirror_mode": {
    "name": "ipython",
    "version": 3
   },
   "file_extension": ".py",
   "mimetype": "text/x-python",
   "name": "python",
   "nbconvert_exporter": "python",
   "pygments_lexer": "ipython3",
   "version": "3.5.3"
  }
 },
 "nbformat": 4,
 "nbformat_minor": 2
}
