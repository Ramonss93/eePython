{
 "cells": [
  {
   "cell_type": "markdown",
   "metadata": {},
   "source": [
    "<img align=\"right\" src=\"files/logo_grupo_en_verde.png\" style=\"width: 200px;\"/>\n",
    "<br><br><br><br>\n",
    "<img align=\"left\" src=\"files/ee.png\" style=\"width: 800px;\"/> "
   ]
  },
  {
   "cell_type": "markdown",
   "metadata": {
    "collapsed": true
   },
   "source": [
    "# Instalação e Configuração da API Python"
   ]
  },
  {
   "cell_type": "code",
   "execution_count": 2,
   "metadata": {},
   "outputs": [
    {
     "name": "stdout",
     "output_type": "stream",
     "text": [
      "#!/bin/bash\r\n",
      "\r\n",
      "#Instalação do Earth Engine Python API\r\n",
      "#Check system name version and arch\r\n",
      "\r\n",
      "OS=$(lsb_release -si)\r\n",
      "\r\n",
      "if [ $OS == \"Korora\" ]; then\r\n",
      "  PACKMAN=dnf\r\n",
      "else\r\n",
      "  PACKMAN=apt-get\r\n",
      "fi\r\n",
      "\r\n",
      "#Instalar python package manager (pip)\r\n",
      "$PACKMAN -y install python-pip\r\n",
      "\r\n",
      "#Instalação do Google APIs Client Library\r\n",
      "pip install google-api-python-client --upgrade\r\n",
      "\r\n",
      "#Verificar se a biblioteca crypto está instalada\r\n",
      "python -c \"from oauth2client import crypt\"\r\n",
      "\r\n",
      "#Caso o comando anterior voltar algum erro\r\n",
      "pip install pyCrypto --upgrade\r\n",
      "\r\n",
      "#Instalação do Secure Sockets Layer Protocol    \r\n",
      "pip install 'pyOpenSSL>=0.11' --upgrade\r\n",
      "\r\n",
      "#Instalação do Earth Engine Python API            \r\n",
      "pip install earthengine-api --upgrade\r\n",
      "\r\n",
      "#Setar credenciais de autenticação\r\n",
      "#Abre o browser para você inserir sua senha do gmail e receber um número de autenticação\r\n",
      "earthengine authenticate  \r\n"
     ]
    }
   ],
   "source": [
    "!cat files/eeInstall.sh"
   ]
  },
  {
   "cell_type": "markdown",
   "metadata": {},
   "source": [
    "## Verificando a Instalação"
   ]
  },
  {
   "cell_type": "code",
   "execution_count": 67,
   "metadata": {},
   "outputs": [],
   "source": [
    "# Importando e Inicializando a API do Google Engine\n",
    "import ee\n",
    "ee.Initialize()"
   ]
  },
  {
   "cell_type": "code",
   "execution_count": 68,
   "metadata": {},
   "outputs": [
    {
     "name": "stdout",
     "output_type": "stream",
     "text": [
      "{'id': 'CGIAR/SRTM90_V4', 'version': 1494271934303000, 'type': 'Image', 'bands': [{'id': 'elevation', 'crs_transform': [0.000833333333333, 0.0, -180.0, 0.0, -0.000833333333333, 60.0], 'crs': 'EPSG:4326', 'dimensions': [432000, 144000], 'data_type': {'type': 'PixelType', 'max': 32767, 'min': -32768, 'precision': 'int'}}], 'properties': {'tags': ['nasa', 'cgiar', 'srtm', 'elevation', 'topography', 'dem', 'geophysical'], 'sample': 'https://mw1.google.com/ges/dd/images/SRTM90_V4_sample.png', 'provider_url': 'http://srtm.csi.cgiar.org/', 'system:time_end': 951177600000, 'title': 'SRTM Digital Elevation Data Version 4', 'system:time_start': 950227200000, 'description': \"<p>The Shuttle Radar Topography Mission (SRTM, see    <a href='http://onlinelibrary.wiley.com/doi/10.1029/2005RG000183/full'>Farr   et al. 2007</a>) digital elevation dataset was originally produced   to provide consistent, high-quality elevation data at near global scope.   This version of the SRTM digital elevation data has been  processed to fill   data voids, and to facilitate its ease of use. The SRTM 90m has a resolution   of 90m at the equator. </p><p>This dataset contains one band, 'elevation'   (meters).</p><p>For the   creation of any reports, publications, new data sets, derived products,   or services resulting from the data set, users should cite:</p>    <p>Jarvis, A., H.I. Reuter, A. Nelson, E. Guevara. 2008. Hole-filled SRTM   for the globe Version 4, available from the CGIAR-CSI SRTM 90m Database:   <a href='http://srtm.csi.cgiar.org'>http://srtm.csi.cgiar.org</a>.</p>\", 'system:visualization_0_gamma': 1.6, 'date_range': [950227200000.0, 951177600000.0], 'system:asset_size': 18827626666, 'thumb': 'https://mw1.google.com/ges/dd/images/SRTM90_V4_thumb.png', 'system:visualization_0_min': 0, 'period': 0, 'system:visualization_0_name': 'Elevation', 'link': 'srtm90_v4', 'provider': 'NASA / CGIAR', 'system:visualization_0_bands': 'elevation', 'system:visualization_0_max': 10000}}\n"
     ]
    }
   ],
   "source": [
    "# Importando dados da plataforma\n",
    "srtm = ee.Image(\"CGIAR/SRTM90_V4\")\n",
    "info = srtm.getInfo()\n",
    "print(info)"
   ]
  },
  {
   "cell_type": "markdown",
   "metadata": {},
   "source": [
    "# Images\n",
    "\n",
    "## Carregando Imagens"
   ]
  },
  {
   "cell_type": "code",
   "execution_count": 69,
   "metadata": {},
   "outputs": [
    {
     "data": {
      "text/html": [
       "<img src=\"https://earthengine.googleapis.com/api/thumb?thumbid=24b84ff4f3625621f8ff298dfcaa919b&token=7ecf3fe8b584e19f905d63324c219270\"/>"
      ],
      "text/plain": [
       "<IPython.core.display.Image object>"
      ]
     },
     "execution_count": 69,
     "metadata": {},
     "output_type": "execute_result"
    }
   ],
   "source": [
    "from IPython.display import Image\n",
    "\n",
    "Image(url=srtm.getThumbUrl())"
   ]
  },
  {
   "cell_type": "code",
   "execution_count": 70,
   "metadata": {},
   "outputs": [
    {
     "data": {
      "text/html": [
       "<img src=\"https://earthengine.googleapis.com/api/thumb?thumbid=a7f37aaf3e0e9a8ec6a0ef27f0a5ff89&token=4828883fad107de5169a4eebb7ca4951\"/>"
      ],
      "text/plain": [
       "<IPython.core.display.Image object>"
      ]
     },
     "execution_count": 70,
     "metadata": {},
     "output_type": "execute_result"
    }
   ],
   "source": [
    "# Adicionando parâmetros para melhorar a visualização\n",
    "Image(url=srtm.getThumbUrl({'min':0, 'max':3000}))"
   ]
  },
  {
   "cell_type": "markdown",
   "metadata": {},
   "source": [
    "Por padrão o método **.getTumbUrl()** retorna o mapa com toda a sua extensão (neste caso, global). Pode-se especificar parâmetros para uma extensão menor."
   ]
  },
  {
   "cell_type": "code",
   "execution_count": 71,
   "metadata": {},
   "outputs": [
    {
     "data": {
      "text/html": [
       "<img src=\"https://earthengine.googleapis.com/api/thumb?thumbid=60d47c9e719d7ff8740020d499afef23&token=1ae55b84d520e6b5c14b9f5e0368d083\"/>"
      ],
      "text/plain": [
       "<IPython.core.display.Image object>"
      ]
     },
     "execution_count": 71,
     "metadata": {},
     "output_type": "execute_result"
    }
   ],
   "source": [
    "#20.7549° S, 42.8786° W\n",
    "point = ee.Geometry.Point(-42.8786, -20.7549)\n",
    "region_vicosa = point.buffer(50000).bounds().getInfo()['coordinates']\n",
    "Image(url=srtm.getThumbUrl({'min':0, 'max':1000, 'region':region_vicosa}))"
   ]
  },
  {
   "cell_type": "markdown",
   "metadata": {},
   "source": [
    "#  Image Collection\n",
    "\n",
    "## Carregando e Filtrando Image Collections"
   ]
  },
  {
   "cell_type": "code",
   "execution_count": 72,
   "metadata": {},
   "outputs": [
    {
     "data": {
      "text/html": [
       "<img src=\"https://earthengine.googleapis.com/api/thumb?thumbid=766f783c383ad22342ceb14b16d8c257&token=9b677622ea17a6374100dd0a69102851\"/>"
      ],
      "text/plain": [
       "<IPython.core.display.Image object>"
      ]
     },
     "execution_count": 72,
     "metadata": {},
     "output_type": "execute_result"
    }
   ],
   "source": [
    "# Define a collection\n",
    "l8 = ee.ImageCollection('LANDSAT/LC8_L1T_TOA')\n",
    "\n",
    "# Filtra a collection para o período ('2017-05-01', '2017-05-15')\n",
    "filtered = l8.filterDate('2017-05-01', '2017-05-15');\n",
    "\n",
    "# O redutor de mosaico seleciona o pixel mais recente nas áreas de sobreposição\n",
    "l8_image = filtered.mosaic()\n",
    "\n",
    "# Define uma região que cobre a cidade de viçosa - MG\n",
    "point = ee.Geometry.Point(-42.8786, -20.7549)\n",
    "region_vicosa = point.buffer(500000).bounds().getInfo()['coordinates']\n",
    "\n",
    "# Plota a collection\n",
    "Image(url=l8_image.getThumbUrl({'region':region_vicosa}))"
   ]
  },
  {
   "cell_type": "markdown",
   "metadata": {},
   "source": [
    "## Trabalhando com Bandas"
   ]
  },
  {
   "cell_type": "code",
   "execution_count": 64,
   "metadata": {},
   "outputs": [
    {
     "data": {
      "text/html": [
       "<img src=\"https://earthengine.googleapis.com/api/thumb?thumbid=b219bfaed16ec0a2327135be9bffd4cf&token=0ff14f7d43190cfbb8f9b4e1845dd7bb\"/>"
      ],
      "text/plain": [
       "<IPython.core.display.Image object>"
      ]
     },
     "execution_count": 64,
     "metadata": {},
     "output_type": "execute_result"
    }
   ],
   "source": [
    "Image(url=l8_image.getThumbUrl({\n",
    "    'region':region_vicosa,\n",
    "    'bands':'B4,B3,B2',\n",
    "    'min':0,\n",
    "    'max':0.3\n",
    "}))"
   ]
  },
  {
   "cell_type": "markdown",
   "metadata": {},
   "source": [
    "## Reducing Image Collections\n",
    "\n",
    "### ImageCollection.mosaic Reducer"
   ]
  },
  {
   "cell_type": "code",
   "execution_count": 66,
   "metadata": {},
   "outputs": [
    {
     "data": {
      "text/html": [
       "<img src=\"https://earthengine.googleapis.com/api/thumb?thumbid=5c08a1db869aa3ffd173f5d1da2b7e32&token=8cc040cec62151923e76600fa729cfa4\"/>"
      ],
      "text/plain": [
       "<IPython.core.display.Image object>"
      ]
     },
     "execution_count": 66,
     "metadata": {},
     "output_type": "execute_result"
    }
   ],
   "source": [
    "filtered = l8.filterDate('2016-01-01', '2017-01-01')\n",
    "\n",
    "l8_image = filtered.mosaic()\n",
    "Image(url=l8_image.getThumbUrl({\n",
    "    'region':region_california,\n",
    "    'bands':'B4,B3,B2',\n",
    "    'min':0,\n",
    "    'max':0.3\n",
    "}))"
   ]
  },
  {
   "cell_type": "markdown",
   "metadata": {},
   "source": [
    "### ImageCollection.median Reducer"
   ]
  },
  {
   "cell_type": "code",
   "execution_count": null,
   "metadata": {
    "collapsed": true
   },
   "outputs": [],
   "source": [
    "l8_image = filtered.median()\n",
    "Image(url=l8_image.getThumbUrl({\n",
    "    'region':region_california,\n",
    "    'bands':'B4,B3,B2',\n",
    "    'min':0,\n",
    "    'max':0.3\n",
    "}))"
   ]
  },
  {
   "cell_type": "code",
   "execution_count": null,
   "metadata": {
    "collapsed": true
   },
   "outputs": [],
   "source": []
  },
  {
   "cell_type": "code",
   "execution_count": null,
   "metadata": {
    "collapsed": true
   },
   "outputs": [],
   "source": []
  }
 ],
 "metadata": {
  "kernelspec": {
   "display_name": "Python 3",
   "language": "python",
   "name": "python3"
  },
  "language_info": {
   "codemirror_mode": {
    "name": "ipython",
    "version": 3
   },
   "file_extension": ".py",
   "mimetype": "text/x-python",
   "name": "python",
   "nbconvert_exporter": "python",
   "pygments_lexer": "ipython3",
   "version": "3.5.3"
  }
 },
 "nbformat": 4,
 "nbformat_minor": 2
}
