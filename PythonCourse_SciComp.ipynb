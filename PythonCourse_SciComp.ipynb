{
 "cells": [
  {
   "cell_type": "markdown",
   "metadata": {},
   "source": [
    "<img align=\"right\" src=\"files/logo_grupo_en_verde.png\" style=\"width: 200px;\"/> \n",
    "<br>\n",
    "<br>\n",
    "<br>\n",
    "<br>\n",
    "# Computação Científica com Python <br>\n",
    "## Pacotes úteis para computação científica <br>\n",
    "<img align=\"left\" src=\"files/pylibs.png\" style=\"width: 800px;\"/>"
   ]
  },
  {
   "cell_type": "markdown",
   "metadata": {},
   "source": [
    "# Numpy\n",
    " - Manipulação de arrays\n",
    "   + homogêneos, tipos estáticos\n",
    "   - eficientes no uso de memória\n",
    "   - rápida implementação de funções matemáticas\n",
    "   - mais rápidos que listas\n",
    " - Algebra Linear\n",
    " - Integração de códico (C/C++, Fortran)\n",
    " - ..."
   ]
  },
  {
   "cell_type": "markdown",
   "metadata": {},
   "source": [
    "## Criando arrays"
   ]
  },
  {
   "cell_type": "code",
   "execution_count": null,
   "metadata": {
    "collapsed": true
   },
   "outputs": [],
   "source": [
    "# Importa numpy\n",
    "import numpy as np\n",
    "#help(np.array)"
   ]
  },
  {
   "cell_type": "code",
   "execution_count": null,
   "metadata": {},
   "outputs": [],
   "source": [
    "# Cria um array\n",
    "arr = np.array([x for x in range(0,10)])\n",
    "print(arr)"
   ]
  },
  {
   "cell_type": "code",
   "execution_count": null,
   "metadata": {},
   "outputs": [],
   "source": [
    "# Verifica o formato do array\n",
    "print(arr.shape)"
   ]
  },
  {
   "cell_type": "code",
   "execution_count": null,
   "metadata": {},
   "outputs": [],
   "source": [
    "# Cria um vetor contendo uma progressão aritmética a partir de um intervalo\n",
    "arr2 = np.arange(0.,4.5,.5)\n",
    "print(arr2)"
   ]
  },
  {
   "cell_type": "code",
   "execution_count": null,
   "metadata": {},
   "outputs": [],
   "source": [
    "# Retorna o tipo dos dados de um array\n",
    "print(arr.dtype)\n",
    "print(arr2.dtype)"
   ]
  },
  {
   "cell_type": "code",
   "execution_count": null,
   "metadata": {},
   "outputs": [],
   "source": [
    "# Cria um array com zeros\n",
    "z = np.zeros(10)\n",
    "print(z)"
   ]
  },
  {
   "cell_type": "code",
   "execution_count": null,
   "metadata": {},
   "outputs": [],
   "source": [
    "# Cria array com valores igualmente distribuídos em um intervalo especificado\n",
    "#linspace -> linearly spaced vector\n",
    "a = np.linspace(0,10)\n",
    "print(a,'\\n')\n",
    "b = np.linspace(0,10,15)\n",
    "print(b,'\\n')\n",
    "print(np.logspace(0,5,10))"
   ]
  },
  {
   "cell_type": "code",
   "execution_count": null,
   "metadata": {},
   "outputs": [],
   "source": [
    "help(np.linspace)"
   ]
  },
  {
   "cell_type": "markdown",
   "metadata": {},
   "source": [
    "## Arrays multidimensionais (matrizes)"
   ]
  },
  {
   "cell_type": "code",
   "execution_count": null,
   "metadata": {},
   "outputs": [],
   "source": [
    "matrix = np.array([[1,2,3],[4,5,6]])\n",
    "print(matrix)\n",
    "print(matrix.shape)"
   ]
  },
  {
   "cell_type": "code",
   "execution_count": null,
   "metadata": {},
   "outputs": [],
   "source": [
    "# Cria uma matriz unitária\n",
    "mones = np.ones((3,4))\n",
    "print(mones)"
   ]
  },
  {
   "cell_type": "code",
   "execution_count": null,
   "metadata": {},
   "outputs": [],
   "source": [
    "# Cria uma matriz identidade\n",
    "identidade = np.eye(3)\n",
    "print(identidade)"
   ]
  },
  {
   "cell_type": "code",
   "execution_count": null,
   "metadata": {},
   "outputs": [],
   "source": [
    "# Cria matriz diagonal com valores especificados\n",
    "d = np.diag(np.array([1,2,3,4,5]))\n",
    "d"
   ]
  },
  {
   "cell_type": "code",
   "execution_count": null,
   "metadata": {},
   "outputs": [],
   "source": [
    "# Transforma lista em matriz\n",
    "lista = [[23,45,67],[90,23,101],[22,64,99]]\n",
    "ml = np.matrix(lista)\n",
    "\n",
    "print('Tipo de dado da matriz: ',type(ml))\n",
    "print('Tipo de dado dos dados da matriz: ', ml.dtype)\n",
    "print('Shape da matriz: ', ml.shape) \n",
    "print('Número de elementos da matriz: ', ml.size)\n",
    "print('Tamanho de cada item da matriz em bytes: ', ml.itemsize)\n",
    "print('Tamanho total da matriz em bytes:', ml.nbytes)"
   ]
  },
  {
   "cell_type": "code",
   "execution_count": null,
   "metadata": {},
   "outputs": [],
   "source": [
    "x = np.array([1,2,3])\n",
    "y = np.array([1.0,2.0,3.0])\n",
    "z = np.array([1,2,3], dtype=np.float32)\n",
    "\n",
    "print(x.dtype, y.dtype, z.dtype)"
   ]
  },
  {
   "cell_type": "code",
   "execution_count": null,
   "metadata": {},
   "outputs": [],
   "source": [
    "# Repete elementos em um array\n",
    "k = np.array([1,2,3])\n",
    "np.repeat(k, 3)"
   ]
  },
  {
   "cell_type": "code",
   "execution_count": null,
   "metadata": {},
   "outputs": [],
   "source": [
    "np.tile(k, 3)"
   ]
  },
  {
   "cell_type": "markdown",
   "metadata": {},
   "source": [
    "## Trabalhando com Datasets"
   ]
  },
  {
   "cell_type": "code",
   "execution_count": null,
   "metadata": {},
   "outputs": [],
   "source": [
    "import os\n",
    "filename = os.path.join('files/pontosBiomassa.csv')\n",
    "\n",
    "!head files/pontosBiomassa.csv"
   ]
  },
  {
   "cell_type": "code",
   "execution_count": null,
   "metadata": {},
   "outputs": [],
   "source": [
    "arq = np.loadtxt(filename, delimiter=',', usecols=(0,3,4), skiprows=1)\n",
    "print(arq)"
   ]
  },
  {
   "cell_type": "code",
   "execution_count": null,
   "metadata": {},
   "outputs": [],
   "source": [
    "#Somando as colunas\n",
    "arq.sum(0)"
   ]
  },
  {
   "cell_type": "code",
   "execution_count": null,
   "metadata": {
    "collapsed": true
   },
   "outputs": [],
   "source": [
    "# Separando uma coluna\n",
    "a = np.array([x[0] for x in arq])"
   ]
  },
  {
   "cell_type": "code",
   "execution_count": null,
   "metadata": {
    "collapsed": true
   },
   "outputs": [],
   "source": [
    "# Salvando novo arquivo\n",
    "np.savetxt(\"novoArquivo.txt\", arq, fmt='%5.3f', delimiter=',', newline='\\n', header='ID, LON, LAT')"
   ]
  },
  {
   "cell_type": "markdown",
   "metadata": {},
   "source": [
    "# Pandas\n",
    "\n",
    "Manipula de forma rápida e expressiva dados estruturados.\n",
    "\n",
    "- Funcionalidades de indexação sofisticadas;\n",
    "  - slice e dice;\n",
    "  - agregação e seleção de subsets;\n",
    "- Preparação e manipulação de dados;\n",
    "  - Series e DataFrames;"
   ]
  },
  {
   "cell_type": "markdown",
   "metadata": {},
   "source": [
    "## Series"
   ]
  },
  {
   "cell_type": "code",
   "execution_count": null,
   "metadata": {},
   "outputs": [],
   "source": [
    "import pandas as pd\n",
    "\n",
    "serie = pd.Series([4, 7, -5, 3])"
   ]
  },
  {
   "cell_type": "code",
   "execution_count": null,
   "metadata": {},
   "outputs": [],
   "source": [
    "serie"
   ]
  },
  {
   "cell_type": "code",
   "execution_count": null,
   "metadata": {},
   "outputs": [],
   "source": [
    "type(serie)"
   ]
  },
  {
   "cell_type": "code",
   "execution_count": null,
   "metadata": {},
   "outputs": [],
   "source": [
    "print(serie.values)\n",
    "print(serie.index)"
   ]
  },
  {
   "cell_type": "code",
   "execution_count": null,
   "metadata": {},
   "outputs": [],
   "source": [
    "serie2 = pd.Series([4, 7, -5, 3], index = ['a','b','c','d',])\n",
    "serie2"
   ]
  },
  {
   "cell_type": "code",
   "execution_count": null,
   "metadata": {},
   "outputs": [],
   "source": [
    "# Slice e Dice\n",
    "print(serie2[serie2>3])\n",
    "print(serie2['a'])\n",
    "print('b' in serie2)"
   ]
  },
  {
   "cell_type": "code",
   "execution_count": null,
   "metadata": {},
   "outputs": [],
   "source": [
    "# Dicionário para Serie\n",
    "\n",
    "dici = {'A': 234,'B':125,'C':778.695,'D':2.98,'E':66.655,'F':89.25414}\n",
    "serie3 = pd.Series(dici)\n",
    "serie3"
   ]
  },
  {
   "cell_type": "code",
   "execution_count": null,
   "metadata": {},
   "outputs": [],
   "source": [
    "# Lista como indice\n",
    "lista = ['A','B','C','D','G']\n",
    "\n",
    "serie4 = pd.Series(dici, index=lista)\n",
    "serie4"
   ]
  },
  {
   "cell_type": "code",
   "execution_count": null,
   "metadata": {},
   "outputs": [],
   "source": [
    "pd.isnull(serie4)"
   ]
  },
  {
   "cell_type": "code",
   "execution_count": null,
   "metadata": {},
   "outputs": [],
   "source": [
    "pd.notnull(serie4)"
   ]
  },
  {
   "cell_type": "code",
   "execution_count": null,
   "metadata": {},
   "outputs": [],
   "source": [
    "# Operações com Series\n",
    "serie5 = serie3 + serie4\n",
    "serie5"
   ]
  },
  {
   "cell_type": "markdown",
   "metadata": {},
   "source": [
    "## DataFrames"
   ]
  },
  {
   "cell_type": "code",
   "execution_count": null,
   "metadata": {},
   "outputs": [],
   "source": [
    "# Cria um DataFrame\n",
    "dados = {'Estado':['MG','MT','GO','BA','PE'],\n",
    "         'Ano':[2001,2002,2003,2004,2005],\n",
    "         'TempMediaAnual':[26.5,26.3,28.6,30.0,32.12]}\n",
    "\n",
    "frame = pd.DataFrame(dados)\n",
    "\n",
    "frame"
   ]
  },
  {
   "cell_type": "code",
   "execution_count": null,
   "metadata": {},
   "outputs": [],
   "source": [
    "# Cria um DataFrame e define os indices\n",
    "frame2 = pd.DataFrame(dados,index = ['um','dois','tres','quatro', 'cinco'])\n",
    "frame2"
   ]
  },
  {
   "cell_type": "code",
   "execution_count": null,
   "metadata": {},
   "outputs": [],
   "source": [
    "# Cria um DataFrame definindo colunas\n",
    "frame3 = pd.DataFrame(dados, columns = ['Ano','Estado','TempMediaAnual','Precipitacao'],index = ['um','dois','tres','quatro', 'cinco'])\n",
    "frame3"
   ]
  },
  {
   "cell_type": "code",
   "execution_count": null,
   "metadata": {},
   "outputs": [],
   "source": [
    "# Slice e Dice\n",
    "frame3['Estado']"
   ]
  },
  {
   "cell_type": "code",
   "execution_count": null,
   "metadata": {},
   "outputs": [],
   "source": [
    "# Adicionando dados à coluna Precipitacao\n",
    "prec = [100,150,200,500,80]\n",
    "frame3['Precipitacao'] = prec\n",
    "frame3"
   ]
  },
  {
   "cell_type": "code",
   "execution_count": null,
   "metadata": {},
   "outputs": [],
   "source": [
    "# Mostra valores do DataFrame\n",
    "frame3.values"
   ]
  },
  {
   "cell_type": "code",
   "execution_count": null,
   "metadata": {},
   "outputs": [],
   "source": [
    "# Informações sobre o DataFrame\n",
    "frame3.describe()"
   ]
  },
  {
   "cell_type": "code",
   "execution_count": null,
   "metadata": {},
   "outputs": [],
   "source": [
    "# Slice e Dice\n",
    "frame3[2:4]"
   ]
  },
  {
   "cell_type": "markdown",
   "metadata": {},
   "source": [
    "# DataFrames a partir de arquivos"
   ]
  },
  {
   "cell_type": "code",
   "execution_count": null,
   "metadata": {},
   "outputs": [],
   "source": [
    "# Verificando os nomes de arquivos\n",
    "!ls files/"
   ]
  },
  {
   "cell_type": "code",
   "execution_count": null,
   "metadata": {},
   "outputs": [],
   "source": [
    "# Verificando como o arquivo está formatado\n",
    "!head files/stat_dados_micro_2010.txt"
   ]
  },
  {
   "cell_type": "code",
   "execution_count": null,
   "metadata": {},
   "outputs": [],
   "source": [
    "# Lendo o arquivo \n",
    "stats = pd.read_table('files/stat_dados_micro_2010.txt', delim_whitespace=True)\n",
    "stats"
   ]
  },
  {
   "cell_type": "code",
   "execution_count": null,
   "metadata": {},
   "outputs": [],
   "source": [
    "# Adicionando nova coluna ao DataFrame\n",
    "stats['Porcentagem'] = (stats['AREAMICROUT']/stats['AREAMARY'])*100\n",
    "stats"
   ]
  },
  {
   "cell_type": "markdown",
   "metadata": {},
   "source": [
    "# Time Series"
   ]
  },
  {
   "cell_type": "code",
   "execution_count": null,
   "metadata": {},
   "outputs": [],
   "source": [
    "# Criando range de datas com frequência em segundos\n",
    "indice = pd.date_range('1/1/2017',periods = 100, freq = 'S')\n",
    "indice"
   ]
  },
  {
   "cell_type": "markdown",
   "metadata": {},
   "source": [
    "> [OffSet Aliases (pd.date_range)](http://pandas.pydata.org/pandas-docs/stable/timeseries.html#offset-aliases)"
   ]
  },
  {
   "cell_type": "code",
   "execution_count": null,
   "metadata": {},
   "outputs": [],
   "source": [
    "# Criando uma série de dados temporais\n",
    "ts = pd.Series(np.random.randint(0, 500, len(indice)), index=indice)\n",
    "ts"
   ]
  },
  {
   "cell_type": "markdown",
   "metadata": {},
   "source": [
    "## Plotting"
   ]
  },
  {
   "cell_type": "code",
   "execution_count": null,
   "metadata": {
    "collapsed": true
   },
   "outputs": [],
   "source": [
    "# importando pacotes necessários\n",
    "import matplotlib.pyplot as plt\n",
    "%matplotlib inline"
   ]
  },
  {
   "cell_type": "code",
   "execution_count": null,
   "metadata": {},
   "outputs": [],
   "source": [
    "# Time Series Plot\n",
    "ts.plot()"
   ]
  },
  {
   "cell_type": "markdown",
   "metadata": {},
   "source": [
    "## DataFrame Plot"
   ]
  },
  {
   "cell_type": "code",
   "execution_count": null,
   "metadata": {},
   "outputs": [],
   "source": [
    "plt.figure()\n",
    "ax = stats['AREAMICROUT'].plot(secondary_y=['AREAMICROUT', 'Porcentagem'], legend=True)\n",
    "stats['Porcentagem'].plot(style='k', legend=True)\n",
    "ax.set_ylabel('Porcentagem')\n",
    "ax.right_ax.set_ylabel('Área (km²)')"
   ]
  }
 ],
 "metadata": {
  "kernelspec": {
   "display_name": "Python 3",
   "language": "python",
   "name": "python3"
  },
  "language_info": {
   "codemirror_mode": {
    "name": "ipython",
    "version": 3
   },
   "file_extension": ".py",
   "mimetype": "text/x-python",
   "name": "python",
   "nbconvert_exporter": "python",
   "pygments_lexer": "ipython3",
   "version": "3.5.3"
  }
 },
 "nbformat": 4,
 "nbformat_minor": 2
}
